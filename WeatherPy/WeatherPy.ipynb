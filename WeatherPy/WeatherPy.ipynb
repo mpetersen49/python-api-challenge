{
 "cells": [
  {
   "cell_type": "markdown",
   "metadata": {},
   "source": [
    "# WeatherPy\n",
    "----\n",
    "\n",
    "#### Note\n",
    "* Instructions have been included for each segment. You do not have to follow them exactly, but they are included to help you think through the steps."
   ]
  },
  {
   "cell_type": "code",
   "execution_count": 1,
   "metadata": {
    "scrolled": true
   },
   "outputs": [],
   "source": [
    "# Dependencies and Setup\n",
    "import matplotlib.pyplot as plt\n",
    "import pandas as pd\n",
    "import numpy as np\n",
    "import requests\n",
    "import time\n",
    "from scipy.stats import linregress\n",
    "\n",
    "# Import API key\n",
    "from api_keys import weather_api_key\n",
    "\n",
    "# Incorporated citipy to determine city based on latitude and longitude\n",
    "from citipy import citipy\n",
    "\n",
    "# Output File (CSV)\n",
    "output_data_file = \"output_data/cities.csv\"\n",
    "\n",
    "# Range of latitudes and longitudes\n",
    "lat_range = (-90, 90)\n",
    "lng_range = (-180, 180)"
   ]
  },
  {
   "cell_type": "markdown",
   "metadata": {},
   "source": [
    "## Generate Cities List"
   ]
  },
  {
   "cell_type": "code",
   "execution_count": 2,
   "metadata": {},
   "outputs": [
    {
     "data": {
      "text/plain": [
       "592"
      ]
     },
     "execution_count": 2,
     "metadata": {},
     "output_type": "execute_result"
    }
   ],
   "source": [
    "# List for holding lat_lngs and cities\n",
    "lat_lngs = []\n",
    "cities = []\n",
    "\n",
    "# Create a set of random lat and lng combinations\n",
    "lats = np.random.uniform(lat_range[0], lat_range[1], size=1500)\n",
    "lngs = np.random.uniform(lng_range[0], lng_range[1], size=1500)\n",
    "lat_lngs = zip(lats, lngs)\n",
    "\n",
    "# Identify nearest city for each lat, lng combination\n",
    "for lat_lng in lat_lngs:\n",
    "    city = citipy.nearest_city(lat_lng[0], lat_lng[1]).city_name\n",
    "    \n",
    "    # If the city is unique, then add it to a our cities list\n",
    "    if city not in cities:\n",
    "        cities.append(city)\n",
    "\n",
    "# Print the city count to confirm sufficient count\n",
    "len(cities)"
   ]
  },
  {
   "cell_type": "markdown",
   "metadata": {},
   "source": [
    "### Perform API Calls\n",
    "* Perform a weather check on each city using a series of successive API calls.\n",
    "* Include a print log of each city as it'sbeing processed (with the city number and city name).\n"
   ]
  },
  {
   "cell_type": "code",
   "execution_count": 64,
   "metadata": {
    "scrolled": true
   },
   "outputs": [
    {
     "name": "stdout",
     "output_type": "stream",
     "text": [
      "Beginning Data Retrieval\n",
      "----------------------------\n",
      "Processing Record 1 of set 1 | abonnema\n",
      "Processing Record 2 of set 1 | remedios\n",
      "Processing Record 3 of set 1 | butaritari\n",
      "Processing Record 4 of set 1 | cape town\n",
      "Processing Record 5 of set 1 | port-gentil\n",
      "Processing Record 6 of set 1 | ribeira grande\n",
      "Processing Record 7 of set 1 | pemangkat\n",
      "Processing Record 8 of set 1 | mehamn\n",
      "City not found skipping...\n",
      "Processing Record 10 of set 1 | pajapan\n"
     ]
    }
   ],
   "source": [
    "base_url = \"http://api.openweathermap.org/data/2.5/weather?q=\"\n",
    "\n",
    "units = \"imperial\"\n",
    "\n",
    "query_url = f\"{base_url}{cities[0]}&appid={weather_api_key}&units={units}\"\n",
    "\n",
    "test_cities = cities[:10]\n",
    "\n",
    "maxtemp = []\n",
    "humidity = []\n",
    "cloudiness = []\n",
    "windspeed = []\n",
    "cities_names = []\n",
    "lat = []\n",
    "lng = []\n",
    "country = []\n",
    "date = []\n",
    "\n",
    "print(\"Beginning Data Retrieval\")\n",
    "print(\"----------------------------\")\n",
    "for x in range(len(test_cities)): \n",
    "    query_url = f\"{base_url}{test_cities[x]}&appid={weather_api_key}&units={units}\"\n",
    "    \n",
    "    weather_data = requests.get(query_url).json()\n",
    "    try:\n",
    "        maxtemp.append(weather_data[\"main\"][\"temp_max\"])\n",
    "        humidity.append(weather_data[\"main\"][\"humidity\"])\n",
    "        cloudiness.append(weather_data[\"clouds\"][\"all\"])\n",
    "        windspeed.append(weather_data[\"wind\"][\"speed\"])\n",
    "        lat.append(weather_data[\"coord\"][\"lat\"])\n",
    "        lng.append(weather_data[\"coord\"][\"lon\"])\n",
    "        country.append(weather_data[\"sys\"][\"country\"])\n",
    "        cities_names.append(test_cities[x])\n",
    "        date.append(weather_data[\"dt\"])\n",
    "        \n",
    "        print(f\"Processing Record {x + 1} of set 1 | {test_cities[x]}\")\n",
    "        \n",
    "        time.sleep(1)\n",
    "        \n",
    "    except:\n",
    "        print(f\"City not found skipping...\")\n"
   ]
  },
  {
   "cell_type": "markdown",
   "metadata": {},
   "source": [
    "### Convert Raw Data to DataFrame\n",
    "* Export the city data into a .csv.\n",
    "* Display the DataFrame"
   ]
  },
  {
   "cell_type": "code",
   "execution_count": 65,
   "metadata": {},
   "outputs": [
    {
     "data": {
      "text/html": [
       "<div>\n",
       "<style scoped>\n",
       "    .dataframe tbody tr th:only-of-type {\n",
       "        vertical-align: middle;\n",
       "    }\n",
       "\n",
       "    .dataframe tbody tr th {\n",
       "        vertical-align: top;\n",
       "    }\n",
       "\n",
       "    .dataframe thead th {\n",
       "        text-align: right;\n",
       "    }\n",
       "</style>\n",
       "<table border=\"1\" class=\"dataframe\">\n",
       "  <thead>\n",
       "    <tr style=\"text-align: right;\">\n",
       "      <th></th>\n",
       "      <th>City</th>\n",
       "      <th>Lat</th>\n",
       "      <th>Lng</th>\n",
       "      <th>Max Temp</th>\n",
       "      <th>Humidity</th>\n",
       "      <th>Cloudiness</th>\n",
       "      <th>Wind Speed</th>\n",
       "      <th>Country</th>\n",
       "      <th>Date</th>\n",
       "    </tr>\n",
       "  </thead>\n",
       "  <tbody>\n",
       "    <tr>\n",
       "      <th>0</th>\n",
       "      <td>abonnema</td>\n",
       "      <td>4.7084</td>\n",
       "      <td>6.7931</td>\n",
       "      <td>80.73</td>\n",
       "      <td>81</td>\n",
       "      <td>32</td>\n",
       "      <td>6.89</td>\n",
       "      <td>NG</td>\n",
       "      <td>1613087708</td>\n",
       "    </tr>\n",
       "    <tr>\n",
       "      <th>1</th>\n",
       "      <td>remedios</td>\n",
       "      <td>22.4947</td>\n",
       "      <td>-79.5458</td>\n",
       "      <td>78.80</td>\n",
       "      <td>69</td>\n",
       "      <td>40</td>\n",
       "      <td>13.80</td>\n",
       "      <td>CU</td>\n",
       "      <td>1613087709</td>\n",
       "    </tr>\n",
       "    <tr>\n",
       "      <th>2</th>\n",
       "      <td>butaritari</td>\n",
       "      <td>3.0707</td>\n",
       "      <td>172.7902</td>\n",
       "      <td>81.99</td>\n",
       "      <td>76</td>\n",
       "      <td>59</td>\n",
       "      <td>13.87</td>\n",
       "      <td>KI</td>\n",
       "      <td>1613087532</td>\n",
       "    </tr>\n",
       "    <tr>\n",
       "      <th>3</th>\n",
       "      <td>cape town</td>\n",
       "      <td>-33.9258</td>\n",
       "      <td>18.4232</td>\n",
       "      <td>72.00</td>\n",
       "      <td>94</td>\n",
       "      <td>20</td>\n",
       "      <td>10.36</td>\n",
       "      <td>ZA</td>\n",
       "      <td>1613087712</td>\n",
       "    </tr>\n",
       "    <tr>\n",
       "      <th>4</th>\n",
       "      <td>port-gentil</td>\n",
       "      <td>-0.7193</td>\n",
       "      <td>8.7815</td>\n",
       "      <td>82.40</td>\n",
       "      <td>89</td>\n",
       "      <td>40</td>\n",
       "      <td>8.05</td>\n",
       "      <td>GA</td>\n",
       "      <td>1613087713</td>\n",
       "    </tr>\n",
       "    <tr>\n",
       "      <th>5</th>\n",
       "      <td>ribeira grande</td>\n",
       "      <td>38.5167</td>\n",
       "      <td>-28.7000</td>\n",
       "      <td>61.47</td>\n",
       "      <td>80</td>\n",
       "      <td>99</td>\n",
       "      <td>38.03</td>\n",
       "      <td>PT</td>\n",
       "      <td>1613087548</td>\n",
       "    </tr>\n",
       "    <tr>\n",
       "      <th>6</th>\n",
       "      <td>pemangkat</td>\n",
       "      <td>1.1667</td>\n",
       "      <td>108.9667</td>\n",
       "      <td>77.18</td>\n",
       "      <td>89</td>\n",
       "      <td>100</td>\n",
       "      <td>9.13</td>\n",
       "      <td>ID</td>\n",
       "      <td>1613087716</td>\n",
       "    </tr>\n",
       "    <tr>\n",
       "      <th>7</th>\n",
       "      <td>mehamn</td>\n",
       "      <td>71.0357</td>\n",
       "      <td>27.8492</td>\n",
       "      <td>22.24</td>\n",
       "      <td>92</td>\n",
       "      <td>78</td>\n",
       "      <td>10.94</td>\n",
       "      <td>NO</td>\n",
       "      <td>1613087630</td>\n",
       "    </tr>\n",
       "    <tr>\n",
       "      <th>8</th>\n",
       "      <td>pajapan</td>\n",
       "      <td>18.2500</td>\n",
       "      <td>-94.7000</td>\n",
       "      <td>93.20</td>\n",
       "      <td>40</td>\n",
       "      <td>1</td>\n",
       "      <td>6.91</td>\n",
       "      <td>MX</td>\n",
       "      <td>1613087718</td>\n",
       "    </tr>\n",
       "  </tbody>\n",
       "</table>\n",
       "</div>"
      ],
      "text/plain": [
       "             City      Lat       Lng  Max Temp  Humidity  Cloudiness  \\\n",
       "0        abonnema   4.7084    6.7931     80.73        81          32   \n",
       "1        remedios  22.4947  -79.5458     78.80        69          40   \n",
       "2      butaritari   3.0707  172.7902     81.99        76          59   \n",
       "3       cape town -33.9258   18.4232     72.00        94          20   \n",
       "4     port-gentil  -0.7193    8.7815     82.40        89          40   \n",
       "5  ribeira grande  38.5167  -28.7000     61.47        80          99   \n",
       "6       pemangkat   1.1667  108.9667     77.18        89         100   \n",
       "7          mehamn  71.0357   27.8492     22.24        92          78   \n",
       "8         pajapan  18.2500  -94.7000     93.20        40           1   \n",
       "\n",
       "   Wind Speed Country        Date  \n",
       "0        6.89      NG  1613087708  \n",
       "1       13.80      CU  1613087709  \n",
       "2       13.87      KI  1613087532  \n",
       "3       10.36      ZA  1613087712  \n",
       "4        8.05      GA  1613087713  \n",
       "5       38.03      PT  1613087548  \n",
       "6        9.13      ID  1613087716  \n",
       "7       10.94      NO  1613087630  \n",
       "8        6.91      MX  1613087718  "
      ]
     },
     "execution_count": 65,
     "metadata": {},
     "output_type": "execute_result"
    }
   ],
   "source": [
    "weather_df = pd.DataFrame({\"City\": cities_names,\n",
    "                          \"Lat\": lat,\n",
    "                          \"Lng\": lng,\n",
    "                          \"Max Temp\": maxtemp,\n",
    "                          \"Humidity\": humidity,\n",
    "                          \"Cloudiness\": cloudiness,\n",
    "                          \"Wind Speed\": windspeed,\n",
    "                          \"Country\": country,\n",
    "                          \"Date\": date})\n",
    "weather_df"
   ]
  },
  {
   "cell_type": "code",
   "execution_count": 66,
   "metadata": {},
   "outputs": [
    {
     "data": {
      "text/html": [
       "<div>\n",
       "<style scoped>\n",
       "    .dataframe tbody tr th:only-of-type {\n",
       "        vertical-align: middle;\n",
       "    }\n",
       "\n",
       "    .dataframe tbody tr th {\n",
       "        vertical-align: top;\n",
       "    }\n",
       "\n",
       "    .dataframe thead th {\n",
       "        text-align: right;\n",
       "    }\n",
       "</style>\n",
       "<table border=\"1\" class=\"dataframe\">\n",
       "  <thead>\n",
       "    <tr style=\"text-align: right;\">\n",
       "      <th></th>\n",
       "      <th>Lat</th>\n",
       "      <th>Lng</th>\n",
       "      <th>Max Temp</th>\n",
       "      <th>Humidity</th>\n",
       "      <th>Cloudiness</th>\n",
       "      <th>Wind Speed</th>\n",
       "      <th>Date</th>\n",
       "    </tr>\n",
       "  </thead>\n",
       "  <tbody>\n",
       "    <tr>\n",
       "      <th>count</th>\n",
       "      <td>9.000000</td>\n",
       "      <td>9.000000</td>\n",
       "      <td>9.000000</td>\n",
       "      <td>9.000000</td>\n",
       "      <td>9.000000</td>\n",
       "      <td>9.000000</td>\n",
       "      <td>9.000000e+00</td>\n",
       "    </tr>\n",
       "    <tr>\n",
       "      <th>mean</th>\n",
       "      <td>13.844200</td>\n",
       "      <td>15.628678</td>\n",
       "      <td>72.223333</td>\n",
       "      <td>78.888889</td>\n",
       "      <td>52.111111</td>\n",
       "      <td>13.108889</td>\n",
       "      <td>1.613088e+09</td>\n",
       "    </tr>\n",
       "    <tr>\n",
       "      <th>std</th>\n",
       "      <td>29.215066</td>\n",
       "      <td>84.327829</td>\n",
       "      <td>20.594826</td>\n",
       "      <td>16.691648</td>\n",
       "      <td>34.552295</td>\n",
       "      <td>9.701185</td>\n",
       "      <td>7.608457e+01</td>\n",
       "    </tr>\n",
       "    <tr>\n",
       "      <th>min</th>\n",
       "      <td>-33.925800</td>\n",
       "      <td>-94.700000</td>\n",
       "      <td>22.240000</td>\n",
       "      <td>40.000000</td>\n",
       "      <td>1.000000</td>\n",
       "      <td>6.890000</td>\n",
       "      <td>1.613088e+09</td>\n",
       "    </tr>\n",
       "    <tr>\n",
       "      <th>25%</th>\n",
       "      <td>1.166700</td>\n",
       "      <td>-28.700000</td>\n",
       "      <td>72.000000</td>\n",
       "      <td>76.000000</td>\n",
       "      <td>32.000000</td>\n",
       "      <td>8.050000</td>\n",
       "      <td>1.613088e+09</td>\n",
       "    </tr>\n",
       "    <tr>\n",
       "      <th>50%</th>\n",
       "      <td>4.708400</td>\n",
       "      <td>8.781500</td>\n",
       "      <td>78.800000</td>\n",
       "      <td>81.000000</td>\n",
       "      <td>40.000000</td>\n",
       "      <td>10.360000</td>\n",
       "      <td>1.613088e+09</td>\n",
       "    </tr>\n",
       "    <tr>\n",
       "      <th>75%</th>\n",
       "      <td>22.494700</td>\n",
       "      <td>27.849200</td>\n",
       "      <td>81.990000</td>\n",
       "      <td>89.000000</td>\n",
       "      <td>78.000000</td>\n",
       "      <td>13.800000</td>\n",
       "      <td>1.613088e+09</td>\n",
       "    </tr>\n",
       "    <tr>\n",
       "      <th>max</th>\n",
       "      <td>71.035700</td>\n",
       "      <td>172.790200</td>\n",
       "      <td>93.200000</td>\n",
       "      <td>94.000000</td>\n",
       "      <td>100.000000</td>\n",
       "      <td>38.030000</td>\n",
       "      <td>1.613088e+09</td>\n",
       "    </tr>\n",
       "  </tbody>\n",
       "</table>\n",
       "</div>"
      ],
      "text/plain": [
       "             Lat         Lng   Max Temp   Humidity  Cloudiness  Wind Speed  \\\n",
       "count   9.000000    9.000000   9.000000   9.000000    9.000000    9.000000   \n",
       "mean   13.844200   15.628678  72.223333  78.888889   52.111111   13.108889   \n",
       "std    29.215066   84.327829  20.594826  16.691648   34.552295    9.701185   \n",
       "min   -33.925800  -94.700000  22.240000  40.000000    1.000000    6.890000   \n",
       "25%     1.166700  -28.700000  72.000000  76.000000   32.000000    8.050000   \n",
       "50%     4.708400    8.781500  78.800000  81.000000   40.000000   10.360000   \n",
       "75%    22.494700   27.849200  81.990000  89.000000   78.000000   13.800000   \n",
       "max    71.035700  172.790200  93.200000  94.000000  100.000000   38.030000   \n",
       "\n",
       "               Date  \n",
       "count  9.000000e+00  \n",
       "mean   1.613088e+09  \n",
       "std    7.608457e+01  \n",
       "min    1.613088e+09  \n",
       "25%    1.613088e+09  \n",
       "50%    1.613088e+09  \n",
       "75%    1.613088e+09  \n",
       "max    1.613088e+09  "
      ]
     },
     "execution_count": 66,
     "metadata": {},
     "output_type": "execute_result"
    }
   ],
   "source": [
    "outfile = \"../output_data/cities.csv\"\n",
    "weather_df.to_csv(outfile, index=False)\n",
    "weather_df.describe()"
   ]
  },
  {
   "cell_type": "markdown",
   "metadata": {},
   "source": [
    "## Inspect the data and remove the cities where the humidity > 100%.\n",
    "----\n",
    "Skip this step if there are no cities that have humidity > 100%. "
   ]
  },
  {
   "cell_type": "code",
   "execution_count": 67,
   "metadata": {},
   "outputs": [
    {
     "data": {
      "text/html": [
       "<div>\n",
       "<style scoped>\n",
       "    .dataframe tbody tr th:only-of-type {\n",
       "        vertical-align: middle;\n",
       "    }\n",
       "\n",
       "    .dataframe tbody tr th {\n",
       "        vertical-align: top;\n",
       "    }\n",
       "\n",
       "    .dataframe thead th {\n",
       "        text-align: right;\n",
       "    }\n",
       "</style>\n",
       "<table border=\"1\" class=\"dataframe\">\n",
       "  <thead>\n",
       "    <tr style=\"text-align: right;\">\n",
       "      <th></th>\n",
       "      <th>City</th>\n",
       "      <th>Lat</th>\n",
       "      <th>Lng</th>\n",
       "      <th>Max Temp</th>\n",
       "      <th>Humidity</th>\n",
       "      <th>Cloudiness</th>\n",
       "      <th>Wind Speed</th>\n",
       "      <th>Country</th>\n",
       "      <th>Date</th>\n",
       "    </tr>\n",
       "  </thead>\n",
       "  <tbody>\n",
       "    <tr>\n",
       "      <th>0</th>\n",
       "      <td>abonnema</td>\n",
       "      <td>4.7084</td>\n",
       "      <td>6.7931</td>\n",
       "      <td>80.73</td>\n",
       "      <td>81</td>\n",
       "      <td>32</td>\n",
       "      <td>6.89</td>\n",
       "      <td>NG</td>\n",
       "      <td>1613087708</td>\n",
       "    </tr>\n",
       "    <tr>\n",
       "      <th>1</th>\n",
       "      <td>remedios</td>\n",
       "      <td>22.4947</td>\n",
       "      <td>-79.5458</td>\n",
       "      <td>78.80</td>\n",
       "      <td>69</td>\n",
       "      <td>40</td>\n",
       "      <td>13.80</td>\n",
       "      <td>CU</td>\n",
       "      <td>1613087709</td>\n",
       "    </tr>\n",
       "    <tr>\n",
       "      <th>2</th>\n",
       "      <td>butaritari</td>\n",
       "      <td>3.0707</td>\n",
       "      <td>172.7902</td>\n",
       "      <td>81.99</td>\n",
       "      <td>76</td>\n",
       "      <td>59</td>\n",
       "      <td>13.87</td>\n",
       "      <td>KI</td>\n",
       "      <td>1613087532</td>\n",
       "    </tr>\n",
       "    <tr>\n",
       "      <th>3</th>\n",
       "      <td>cape town</td>\n",
       "      <td>-33.9258</td>\n",
       "      <td>18.4232</td>\n",
       "      <td>72.00</td>\n",
       "      <td>94</td>\n",
       "      <td>20</td>\n",
       "      <td>10.36</td>\n",
       "      <td>ZA</td>\n",
       "      <td>1613087712</td>\n",
       "    </tr>\n",
       "    <tr>\n",
       "      <th>4</th>\n",
       "      <td>port-gentil</td>\n",
       "      <td>-0.7193</td>\n",
       "      <td>8.7815</td>\n",
       "      <td>82.40</td>\n",
       "      <td>89</td>\n",
       "      <td>40</td>\n",
       "      <td>8.05</td>\n",
       "      <td>GA</td>\n",
       "      <td>1613087713</td>\n",
       "    </tr>\n",
       "    <tr>\n",
       "      <th>5</th>\n",
       "      <td>ribeira grande</td>\n",
       "      <td>38.5167</td>\n",
       "      <td>-28.7000</td>\n",
       "      <td>61.47</td>\n",
       "      <td>80</td>\n",
       "      <td>99</td>\n",
       "      <td>38.03</td>\n",
       "      <td>PT</td>\n",
       "      <td>1613087548</td>\n",
       "    </tr>\n",
       "    <tr>\n",
       "      <th>6</th>\n",
       "      <td>pemangkat</td>\n",
       "      <td>1.1667</td>\n",
       "      <td>108.9667</td>\n",
       "      <td>77.18</td>\n",
       "      <td>89</td>\n",
       "      <td>100</td>\n",
       "      <td>9.13</td>\n",
       "      <td>ID</td>\n",
       "      <td>1613087716</td>\n",
       "    </tr>\n",
       "    <tr>\n",
       "      <th>7</th>\n",
       "      <td>mehamn</td>\n",
       "      <td>71.0357</td>\n",
       "      <td>27.8492</td>\n",
       "      <td>22.24</td>\n",
       "      <td>92</td>\n",
       "      <td>78</td>\n",
       "      <td>10.94</td>\n",
       "      <td>NO</td>\n",
       "      <td>1613087630</td>\n",
       "    </tr>\n",
       "    <tr>\n",
       "      <th>8</th>\n",
       "      <td>pajapan</td>\n",
       "      <td>18.2500</td>\n",
       "      <td>-94.7000</td>\n",
       "      <td>93.20</td>\n",
       "      <td>40</td>\n",
       "      <td>1</td>\n",
       "      <td>6.91</td>\n",
       "      <td>MX</td>\n",
       "      <td>1613087718</td>\n",
       "    </tr>\n",
       "  </tbody>\n",
       "</table>\n",
       "</div>"
      ],
      "text/plain": [
       "             City      Lat       Lng  Max Temp  Humidity  Cloudiness  \\\n",
       "0        abonnema   4.7084    6.7931     80.73        81          32   \n",
       "1        remedios  22.4947  -79.5458     78.80        69          40   \n",
       "2      butaritari   3.0707  172.7902     81.99        76          59   \n",
       "3       cape town -33.9258   18.4232     72.00        94          20   \n",
       "4     port-gentil  -0.7193    8.7815     82.40        89          40   \n",
       "5  ribeira grande  38.5167  -28.7000     61.47        80          99   \n",
       "6       pemangkat   1.1667  108.9667     77.18        89         100   \n",
       "7          mehamn  71.0357   27.8492     22.24        92          78   \n",
       "8         pajapan  18.2500  -94.7000     93.20        40           1   \n",
       "\n",
       "   Wind Speed Country        Date  \n",
       "0        6.89      NG  1613087708  \n",
       "1       13.80      CU  1613087709  \n",
       "2       13.87      KI  1613087532  \n",
       "3       10.36      ZA  1613087712  \n",
       "4        8.05      GA  1613087713  \n",
       "5       38.03      PT  1613087548  \n",
       "6        9.13      ID  1613087716  \n",
       "7       10.94      NO  1613087630  \n",
       "8        6.91      MX  1613087718  "
      ]
     },
     "execution_count": 67,
     "metadata": {},
     "output_type": "execute_result"
    }
   ],
   "source": [
    "data_file = \"../output_data/cities.csv\"\n",
    "city_data = pd.read_csv(data_file)\n",
    "city_data"
   ]
  },
  {
   "cell_type": "code",
   "execution_count": 68,
   "metadata": {},
   "outputs": [
    {
     "data": {
      "text/plain": [
       "Int64Index([3, 4, 6, 7], dtype='int64')"
      ]
     },
     "execution_count": 68,
     "metadata": {},
     "output_type": "execute_result"
    }
   ],
   "source": [
    "#  Get the indices of cities that have humidity over 100%.\n",
    "index100 = weather_df.loc[weather_df[\"Humidity\"] > 80, :].index\n",
    "index"
   ]
  },
  {
   "cell_type": "code",
   "execution_count": 69,
   "metadata": {},
   "outputs": [
    {
     "data": {
      "text/html": [
       "<div>\n",
       "<style scoped>\n",
       "    .dataframe tbody tr th:only-of-type {\n",
       "        vertical-align: middle;\n",
       "    }\n",
       "\n",
       "    .dataframe tbody tr th {\n",
       "        vertical-align: top;\n",
       "    }\n",
       "\n",
       "    .dataframe thead th {\n",
       "        text-align: right;\n",
       "    }\n",
       "</style>\n",
       "<table border=\"1\" class=\"dataframe\">\n",
       "  <thead>\n",
       "    <tr style=\"text-align: right;\">\n",
       "      <th></th>\n",
       "      <th>City</th>\n",
       "      <th>Lat</th>\n",
       "      <th>Lng</th>\n",
       "      <th>Max Temp</th>\n",
       "      <th>Humidity</th>\n",
       "      <th>Cloudiness</th>\n",
       "      <th>Wind Speed</th>\n",
       "      <th>Country</th>\n",
       "      <th>Date</th>\n",
       "    </tr>\n",
       "  </thead>\n",
       "  <tbody>\n",
       "    <tr>\n",
       "      <th>1</th>\n",
       "      <td>remedios</td>\n",
       "      <td>22.4947</td>\n",
       "      <td>-79.5458</td>\n",
       "      <td>78.80</td>\n",
       "      <td>69</td>\n",
       "      <td>40</td>\n",
       "      <td>13.80</td>\n",
       "      <td>CU</td>\n",
       "      <td>1613087709</td>\n",
       "    </tr>\n",
       "    <tr>\n",
       "      <th>2</th>\n",
       "      <td>butaritari</td>\n",
       "      <td>3.0707</td>\n",
       "      <td>172.7902</td>\n",
       "      <td>81.99</td>\n",
       "      <td>76</td>\n",
       "      <td>59</td>\n",
       "      <td>13.87</td>\n",
       "      <td>KI</td>\n",
       "      <td>1613087532</td>\n",
       "    </tr>\n",
       "    <tr>\n",
       "      <th>5</th>\n",
       "      <td>ribeira grande</td>\n",
       "      <td>38.5167</td>\n",
       "      <td>-28.7000</td>\n",
       "      <td>61.47</td>\n",
       "      <td>80</td>\n",
       "      <td>99</td>\n",
       "      <td>38.03</td>\n",
       "      <td>PT</td>\n",
       "      <td>1613087548</td>\n",
       "    </tr>\n",
       "    <tr>\n",
       "      <th>8</th>\n",
       "      <td>pajapan</td>\n",
       "      <td>18.2500</td>\n",
       "      <td>-94.7000</td>\n",
       "      <td>93.20</td>\n",
       "      <td>40</td>\n",
       "      <td>1</td>\n",
       "      <td>6.91</td>\n",
       "      <td>MX</td>\n",
       "      <td>1613087718</td>\n",
       "    </tr>\n",
       "  </tbody>\n",
       "</table>\n",
       "</div>"
      ],
      "text/plain": [
       "             City      Lat       Lng  Max Temp  Humidity  Cloudiness  \\\n",
       "1        remedios  22.4947  -79.5458     78.80        69          40   \n",
       "2      butaritari   3.0707  172.7902     81.99        76          59   \n",
       "5  ribeira grande  38.5167  -28.7000     61.47        80          99   \n",
       "8         pajapan  18.2500  -94.7000     93.20        40           1   \n",
       "\n",
       "   Wind Speed Country        Date  \n",
       "1       13.80      CU  1613087709  \n",
       "2       13.87      KI  1613087532  \n",
       "5       38.03      PT  1613087548  \n",
       "8        6.91      MX  1613087718  "
      ]
     },
     "execution_count": 69,
     "metadata": {},
     "output_type": "execute_result"
    }
   ],
   "source": [
    "# Make a new DataFrame equal to the city data to drop all humidity outliers by index.\n",
    "# Passing \"inplace=False\" will make a copy of the city_data DataFrame, which we call \"clean_city_data\".\n",
    "clean_city_data = weather_df.drop(index=index100)\n",
    "clean_city_data"
   ]
  },
  {
   "cell_type": "code",
   "execution_count": null,
   "metadata": {},
   "outputs": [],
   "source": [
    "\n"
   ]
  },
  {
   "cell_type": "markdown",
   "metadata": {},
   "source": [
    "## Plotting the Data\n",
    "* Use proper labeling of the plots using plot titles (including date of analysis) and axes labels.\n",
    "* Save the plotted figures as .pngs."
   ]
  },
  {
   "cell_type": "markdown",
   "metadata": {},
   "source": [
    "## Latitude vs. Temperature Plot"
   ]
  },
  {
   "cell_type": "code",
   "execution_count": 70,
   "metadata": {},
   "outputs": [],
   "source": [
    "# function to create plots\n",
    "def createPlots(x_param, y_param, title, xlabel, ylabel):\n",
    "    clean_city_data.plot(x_param, y_param, kind=\"scatter\")\n",
    "    plt.title(title)\n",
    "    plt.xlabel(xlabel)\n",
    "    plt.ylabel(ylabel)\n",
    "    plt.grid()\n",
    "    plt.show()"
   ]
  },
  {
   "cell_type": "code",
   "execution_count": 71,
   "metadata": {
    "scrolled": true
   },
   "outputs": [
    {
     "data": {
      "image/png": "[encoded data removed]",
      "text/plain": [
       "<Figure size 432x288 with 1 Axes>"
      ]
     },
     "metadata": {
      "needs_background": "light"
     },
     "output_type": "display_data"
    }
   ],
   "source": [
    "x = \"Lat\"\n",
    "y = \"Max Temp\"\n",
    "title = \"City Latitude vs. Max Temperture\"\n",
    "xlabel = \"Latitude\"\n",
    "ylabel = \"Max Temerature (F)\"\n",
    "createPlots(x, y, title, xlabel, ylabel)"
   ]
  },
  {
   "cell_type": "markdown",
   "metadata": {},
   "source": [
    "## Latitude vs. Humidity Plot"
   ]
  },
  {
   "cell_type": "code",
   "execution_count": 72,
   "metadata": {},
   "outputs": [
    {
     "data": {
      "image/png": "[encoded data removed]",
      "text/plain": [
       "<Figure size 432x288 with 1 Axes>"
      ]
     },
     "metadata": {
      "needs_background": "light"
     },
     "output_type": "display_data"
    }
   ],
   "source": [
    "x = \"Lat\"\n",
    "y = \"Humidity\"\n",
    "title = \"City Latitude vs. Humidity\"\n",
    "xlabel = \"Latitude\"\n",
    "ylabel = \"Humidity (%)\"\n",
    "createPlots(x, y, title, xlabel, ylabel)"
   ]
  },
  {
   "cell_type": "markdown",
   "metadata": {},
   "source": [
    "## Latitude vs. Cloudiness Plot"
   ]
  },
  {
   "cell_type": "code",
   "execution_count": 73,
   "metadata": {},
   "outputs": [
    {
     "data": {
      "image/png": "[encoded data removed]",
      "text/plain": [
       "<Figure size 432x288 with 1 Axes>"
      ]
     },
     "metadata": {
      "needs_background": "light"
     },
     "output_type": "display_data"
    }
   ],
   "source": [
    "x = \"Lat\"\n",
    "y = \"Cloudiness\"\n",
    "title = \"City Latitude vs. Cloudiness\"\n",
    "xlabel = \"Latitude\"\n",
    "ylabel = \"Cloudiness (%)\"\n",
    "createPlots(x, y, title, xlabel, ylabel)"
   ]
  },
  {
   "cell_type": "markdown",
   "metadata": {},
   "source": [
    "## Latitude vs. Wind Speed Plot"
   ]
  },
  {
   "cell_type": "code",
   "execution_count": 74,
   "metadata": {},
   "outputs": [
    {
     "data": {
      "image/png": "[encoded data removed]",
      "text/plain": [
       "<Figure size 432x288 with 1 Axes>"
      ]
     },
     "metadata": {
      "needs_background": "light"
     },
     "output_type": "display_data"
    }
   ],
   "source": [
    "x = \"Lat\"\n",
    "y = \"Wind Speed\"\n",
    "title = \"City Latitude vs. Wind Speed\"\n",
    "xlabel = \"Latitude\"\n",
    "ylabel = \"Wind Speed (mph)\"\n",
    "createPlots(x, y, title, xlabel, ylabel)"
   ]
  },
  {
   "cell_type": "markdown",
   "metadata": {},
   "source": [
    "## Linear Regression"
   ]
  },
  {
   "cell_type": "code",
   "execution_count": 75,
   "metadata": {},
   "outputs": [],
   "source": [
    "northern_data = clean_city_data.loc[clean_city_data[\"Lat\"] >= 0, :]\n",
    "southern_data = clean_city_data.loc[clean_city_data[\"Lat\"] <= 0, :]"
   ]
  },
  {
   "cell_type": "markdown",
   "metadata": {},
   "source": [
    "####  Northern Hemisphere - Max Temp vs. Latitude Linear Regression"
   ]
  },
  {
   "cell_type": "code",
   "execution_count": null,
   "metadata": {},
   "outputs": [],
   "source": []
  },
  {
   "cell_type": "markdown",
   "metadata": {},
   "source": [
    "####  Southern Hemisphere - Max Temp vs. Latitude Linear Regression"
   ]
  },
  {
   "cell_type": "code",
   "execution_count": null,
   "metadata": {},
   "outputs": [],
   "source": []
  },
  {
   "cell_type": "markdown",
   "metadata": {},
   "source": [
    "####  Northern Hemisphere - Humidity (%) vs. Latitude Linear Regression"
   ]
  },
  {
   "cell_type": "code",
   "execution_count": null,
   "metadata": {},
   "outputs": [],
   "source": []
  },
  {
   "cell_type": "markdown",
   "metadata": {},
   "source": [
    "####  Southern Hemisphere - Humidity (%) vs. Latitude Linear Regression"
   ]
  },
  {
   "cell_type": "code",
   "execution_count": null,
   "metadata": {},
   "outputs": [],
   "source": []
  },
  {
   "cell_type": "markdown",
   "metadata": {},
   "source": [
    "####  Northern Hemisphere - Cloudiness (%) vs. Latitude Linear Regression"
   ]
  },
  {
   "cell_type": "code",
   "execution_count": null,
   "metadata": {},
   "outputs": [],
   "source": []
  },
  {
   "cell_type": "markdown",
   "metadata": {},
   "source": [
    "####  Southern Hemisphere - Cloudiness (%) vs. Latitude Linear Regression"
   ]
  },
  {
   "cell_type": "code",
   "execution_count": null,
   "metadata": {},
   "outputs": [],
   "source": []
  },
  {
   "cell_type": "markdown",
   "metadata": {},
   "source": [
    "####  Northern Hemisphere - Wind Speed (mph) vs. Latitude Linear Regression"
   ]
  },
  {
   "cell_type": "code",
   "execution_count": null,
   "metadata": {},
   "outputs": [],
   "source": []
  },
  {
   "cell_type": "markdown",
   "metadata": {},
   "source": [
    "####  Southern Hemisphere - Wind Speed (mph) vs. Latitude Linear Regression"
   ]
  },
  {
   "cell_type": "code",
   "execution_count": null,
   "metadata": {},
   "outputs": [],
   "source": []
  },
  {
   "cell_type": "code",
   "execution_count": null,
   "metadata": {},
   "outputs": [],
   "source": []
  }
 ],
 "metadata": {
  "anaconda-cloud": {},
  "kernel_info": {
   "name": "python3"
  },
  "kernelspec": {
   "display_name": "Python 3",
   "language": "python",
   "name": "python3"
  },
  "language_info": {
   "codemirror_mode": {
    "name": "ipython",
    "version": 3
   },
   "file_extension": ".py",
   "mimetype": "text/x-python",
   "name": "python",
   "nbconvert_exporter": "python",
   "pygments_lexer": "ipython3",
   "version": "3.6.10"
  },
  "latex_envs": {
   "LaTeX_envs_menu_present": true,
   "autoclose": false,
   "autocomplete": true,
   "bibliofile": "biblio.bib",
   "cite_by": "apalike",
   "current_citInitial": 1,
   "eqLabelWithNumbers": true,
   "eqNumInitial": 1,
   "hotkeys": {
    "equation": "Ctrl-E",
    "itemize": "Ctrl-I"
   },
   "labels_anchors": false,
   "latex_user_defs": false,
   "report_style_numbering": false,
   "user_envs_cfg": false
  },
  "nteract": {
   "version": "0.12.3"
  }
 },
 "nbformat": 4,
 "nbformat_minor": 2
}
