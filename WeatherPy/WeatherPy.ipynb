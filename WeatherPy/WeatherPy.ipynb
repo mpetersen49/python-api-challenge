{
 "cells": [
  {
   "cell_type": "markdown",
   "metadata": {},
   "source": [
    "# WeatherPy\n",
    "----\n",
    "\n",
    "#### Note\n",
    "* Instructions have been included for each segment. You do not have to follow them exactly, but they are included to help you think through the steps."
   ]
  },
  {
   "cell_type": "code",
   "execution_count": 1,
   "metadata": {
    "scrolled": true
   },
   "outputs": [],
   "source": [
    "# Dependencies and Setup\n",
    "import matplotlib.pyplot as plt\n",
    "import pandas as pd\n",
    "import numpy as np\n",
    "import requests\n",
    "import time\n",
    "from scipy.stats import linregress\n",
    "\n",
    "# Import API key\n",
    "from api_keys import weather_api_key\n",
    "\n",
    "# Incorporated citipy to determine city based on latitude and longitude\n",
    "from citipy import citipy\n",
    "\n",
    "# Output File (CSV)\n",
    "output_data_file = \"output_data/cities.csv\"\n",
    "\n",
    "# Range of latitudes and longitudes\n",
    "lat_range = (-90, 90)\n",
    "lng_range = (-180, 180)"
   ]
  },
  {
   "cell_type": "markdown",
   "metadata": {},
   "source": [
    "## Generate Cities List"
   ]
  },
  {
   "cell_type": "code",
   "execution_count": 2,
   "metadata": {},
   "outputs": [
    {
     "data": {
      "text/plain": [
       "646"
      ]
     },
     "execution_count": 2,
     "metadata": {},
     "output_type": "execute_result"
    }
   ],
   "source": [
    "# List for holding lat_lngs and cities\n",
    "lat_lngs = []\n",
    "cities = []\n",
    "\n",
    "# Create a set of random lat and lng combinations\n",
    "lats = np.random.uniform(lat_range[0], lat_range[1], size=1500)\n",
    "lngs = np.random.uniform(lng_range[0], lng_range[1], size=1500)\n",
    "lat_lngs = zip(lats, lngs)\n",
    "\n",
    "# Identify nearest city for each lat, lng combination\n",
    "for lat_lng in lat_lngs:\n",
    "    city = citipy.nearest_city(lat_lng[0], lat_lng[1]).city_name\n",
    "    \n",
    "    # If the city is unique, then add it to a our cities list\n",
    "    if city not in cities:\n",
    "        cities.append(city)\n",
    "\n",
    "# Print the city count to confirm sufficient count\n",
    "len(cities)"
   ]
  },
  {
   "cell_type": "markdown",
   "metadata": {},
   "source": [
    "### Perform API Calls\n",
    "* Perform a weather check on each city using a series of successive API calls.\n",
    "* Include a print log of each city as it'sbeing processed (with the city number and city name).\n"
   ]
  },
  {
   "cell_type": "code",
   "execution_count": 3,
   "metadata": {
    "scrolled": true
   },
   "outputs": [
    {
     "name": "stdout",
     "output_type": "stream",
     "text": [
      "Beginning Data Retrieval\n",
      "----------------------------\n",
      "Processing Record 1 | alta floresta\n",
      "Processing Record 2 | kapaa\n",
      "Processing Record 3 | tomatlan\n",
      "Processing Record 4 | albany\n",
      "Processing Record 5 | rikitea\n",
      "Processing Record 6 | castro\n",
      "Processing Record 7 | bluff\n",
      "Processing Record 8 | severo-kurilsk\n",
      "Processing Record 9 | ushuaia\n",
      "Processing Record 10 | saskylakh\n",
      "Processing Record 11 | ilulissat\n",
      "Processing Record 12 | vaini\n",
      "Processing Record 13 | cherskiy\n",
      "Processing Record 14 | bonwapitse\n",
      "Processing Record 15 | qaanaaq\n",
      "Processing Record 16 | nikolskoye\n",
      "Processing Record 17 | sao joao da barra\n",
      "Processing Record 18 | busselton\n",
      "Processing Record 19 | hualmay\n",
      "Processing Record 20 | victoria\n",
      "Processing Record 21 | presidente medici\n",
      "Processing Record 22 | adrar\n",
      "City not found skipping...\n",
      "City not found skipping...\n",
      "Processing Record 23 | nikel\n",
      "Processing Record 24 | yellowknife\n",
      "Processing Record 25 | santa cruz\n",
      "Processing Record 26 | hobart\n",
      "Processing Record 27 | mahebourg\n",
      "City not found skipping...\n",
      "Processing Record 28 | chulym\n",
      "Processing Record 29 | bandarbeyla\n",
      "Processing Record 30 | port alfred\n",
      "Processing Record 31 | visby\n",
      "Processing Record 32 | floresti\n",
      "Processing Record 33 | hithadhoo\n",
      "Processing Record 34 | klaksvik\n",
      "City not found skipping...\n",
      "Processing Record 35 | avarua\n",
      "Processing Record 36 | clyde river\n",
      "Processing Record 37 | hermanus\n",
      "Processing Record 38 | isetskoye\n",
      "Processing Record 39 | new norfolk\n",
      "City not found skipping...\n",
      "Processing Record 40 | tongliao\n",
      "City not found skipping...\n",
      "Processing Record 41 | shu\n",
      "Processing Record 42 | correia pinto\n",
      "Processing Record 43 | beringovskiy\n",
      "Processing Record 44 | lebu\n",
      "Processing Record 45 | port elizabeth\n",
      "Processing Record 46 | samarai\n",
      "Processing Record 47 | sundsvall\n",
      "Processing Record 48 | airai\n",
      "Processing Record 49 | upernavik\n",
      "Processing Record 50 | mataura\n",
      "Processing Record 51 | port keats\n",
      "Processing Record 52 | gurupa\n",
      "Processing Record 53 | tiarei\n",
      "Processing Record 54 | chuy\n",
      "Processing Record 55 | puerto ayora\n",
      "Processing Record 56 | saint george\n",
      "Processing Record 57 | inirida\n",
      "Processing Record 58 | tasiilaq\n",
      "Processing Record 59 | yangjiang\n",
      "City not found skipping...\n",
      "Processing Record 60 | fairview\n",
      "Processing Record 61 | pimenta bueno\n",
      "Processing Record 62 | guerrero negro\n",
      "Processing Record 63 | jamestown\n",
      "Processing Record 64 | brandon\n",
      "Processing Record 65 | rio grande\n",
      "Processing Record 66 | kruisfontein\n",
      "Processing Record 67 | tigre\n",
      "Processing Record 68 | porvoo\n",
      "Processing Record 69 | seddon\n",
      "Processing Record 70 | sinnamary\n",
      "Processing Record 71 | la ronge\n",
      "Processing Record 72 | bredasdorp\n",
      "Processing Record 73 | nanortalik\n",
      "Processing Record 74 | nikolayevsk-na-amure\n",
      "Processing Record 75 | bengkulu\n",
      "Processing Record 76 | peruibe\n",
      "City not found skipping...\n",
      "Processing Record 77 | butaritari\n",
      "Processing Record 78 | goderich\n",
      "Processing Record 79 | dunedin\n",
      "Processing Record 80 | mingyue\n",
      "Processing Record 81 | diu\n",
      "Processing Record 82 | prince rupert\n",
      "Processing Record 83 | newport\n",
      "Processing Record 84 | punta arenas\n",
      "Processing Record 85 | asau\n",
      "Processing Record 86 | hilo\n",
      "Processing Record 87 | cape town\n",
      "Processing Record 88 | birao\n",
      "Processing Record 89 | nuuk\n",
      "Processing Record 90 | yerofey pavlovich\n",
      "Processing Record 91 | cap malheureux\n",
      "Processing Record 92 | ixtapa\n",
      "Processing Record 93 | dikson\n",
      "Processing Record 94 | mount pleasant\n",
      "Processing Record 95 | ahipara\n",
      "Processing Record 96 | tura\n",
      "Processing Record 97 | ko samui\n",
      "Processing Record 98 | carupano\n",
      "City not found skipping...\n",
      "Processing Record 99 | uyuni\n",
      "Processing Record 100 | barrow\n",
      "Processing Record 101 | boquira\n",
      "Processing Record 102 | hanko\n",
      "Processing Record 103 | floro\n",
      "Processing Record 104 | kodiak\n",
      "Processing Record 105 | coquimbo\n",
      "Processing Record 106 | maricao\n",
      "Processing Record 107 | brigantine\n",
      "Processing Record 108 | dauphin\n",
      "Processing Record 109 | campanario\n",
      "Processing Record 110 | thompson\n",
      "Processing Record 111 | pocosol\n",
      "Processing Record 112 | miandrivazo\n",
      "Processing Record 113 | fairbanks\n",
      "Processing Record 114 | alofi\n",
      "Processing Record 115 | reconquista\n",
      "Processing Record 116 | east london\n",
      "Processing Record 117 | shanhetun\n",
      "Processing Record 118 | srednekolymsk\n",
      "Processing Record 119 | madimba\n",
      "Processing Record 120 | atuona\n",
      "Processing Record 121 | santa isabel do para\n",
      "Processing Record 122 | camacha\n",
      "Processing Record 123 | nizwa\n",
      "Processing Record 124 | talnakh\n",
      "Processing Record 125 | robertsport\n",
      "Processing Record 126 | pangnirtung\n",
      "Processing Record 127 | pisco\n",
      "Processing Record 128 | aleksandrov gay\n",
      "Processing Record 129 | mar del plata\n",
      "Processing Record 130 | portland\n",
      "Processing Record 131 | roald\n",
      "Processing Record 132 | aykhal\n",
      "Processing Record 133 | menongue\n",
      "Processing Record 134 | nurota\n",
      "City not found skipping...\n",
      "Processing Record 135 | broken hill\n",
      "Processing Record 136 | georgetown\n",
      "Processing Record 137 | jonesboro\n",
      "Processing Record 138 | constitucion\n",
      "Processing Record 139 | tocache\n",
      "City not found skipping...\n",
      "City not found skipping...\n",
      "Processing Record 140 | jamsa\n",
      "Processing Record 141 | kaitangata\n",
      "Processing Record 142 | kendari\n",
      "Processing Record 143 | wamba\n",
      "Processing Record 144 | arraial do cabo\n",
      "Processing Record 145 | hluti\n",
      "Processing Record 146 | rio cuarto\n",
      "Processing Record 147 | jumla\n",
      "Processing Record 148 | bougouni\n",
      "Processing Record 149 | college\n",
      "Processing Record 150 | fortuna\n",
      "Processing Record 151 | mehamn\n",
      "Processing Record 152 | iquique\n",
      "Processing Record 153 | kluang\n",
      "Processing Record 154 | lavrentiya\n",
      "City not found skipping...\n",
      "Processing Record 155 | saint-philippe\n",
      "Processing Record 156 | aberdeen\n",
      "Processing Record 157 | pandan\n",
      "Processing Record 158 | lyndon\n",
      "City not found skipping...\n",
      "Processing Record 159 | faanui\n",
      "Processing Record 160 | anastacio\n",
      "Processing Record 161 | nha trang\n",
      "Processing Record 162 | tautira\n",
      "Processing Record 163 | port lincoln\n",
      "Processing Record 164 | balkanabat\n",
      "Processing Record 165 | ancud\n",
      "Processing Record 166 | bani walid\n",
      "Processing Record 167 | san patricio\n",
      "Processing Record 168 | hofn\n",
      "Processing Record 169 | carnarvon\n",
      "Processing Record 170 | tuktoyaktuk\n",
      "Processing Record 171 | shimoda\n",
      "Processing Record 172 | gari\n",
      "City not found skipping...\n",
      "City not found skipping...\n",
      "Processing Record 173 | moussoro\n",
      "Processing Record 174 | namatanai\n",
      "Processing Record 175 | witu\n",
      "Processing Record 176 | shushenskoye\n",
      "Processing Record 177 | ilo\n",
      "Processing Record 178 | tazovskiy\n",
      "Processing Record 179 | balkhash\n",
      "Processing Record 180 | moroto\n",
      "City not found skipping...\n",
      "City not found skipping...\n",
      "Processing Record 181 | richards bay\n",
      "Processing Record 182 | boralday\n",
      "Processing Record 183 | aklavik\n",
      "Processing Record 184 | fonte boa\n",
      "Processing Record 185 | chokurdakh\n",
      "Processing Record 186 | mporokoso\n",
      "Processing Record 187 | kuminskiy\n",
      "Processing Record 188 | phan thiet\n",
      "Processing Record 189 | garowe\n",
      "Processing Record 190 | saint-augustin\n",
      "Processing Record 191 | khartoum\n",
      "Processing Record 192 | the valley\n",
      "Processing Record 193 | kankan\n",
      "Processing Record 194 | vatava\n",
      "Processing Record 195 | shache\n",
      "Processing Record 196 | iqaluit\n",
      "Processing Record 197 | amahai\n",
      "Processing Record 198 | vila franca do campo\n",
      "Processing Record 199 | buin\n",
      "City not found skipping...\n",
      "Processing Record 200 | jiazi\n",
      "Processing Record 201 | kushima\n",
      "Processing Record 202 | leh\n",
      "City not found skipping...\n",
      "Processing Record 203 | ponta do sol\n",
      "Processing Record 204 | touros\n",
      "City not found skipping...\n",
      "Processing Record 205 | caravelas\n",
      "Processing Record 206 | moree\n",
      "Processing Record 207 | maniitsoq\n",
      "Processing Record 208 | esperance\n",
      "Processing Record 209 | antiguo morelos\n",
      "Processing Record 210 | progreso\n",
      "Processing Record 211 | oudtshoorn\n",
      "City not found skipping...\n",
      "Processing Record 212 | katsuura\n",
      "Processing Record 213 | arari\n",
      "Processing Record 214 | acari\n",
      "Processing Record 215 | ilinskiy\n",
      "Processing Record 216 | navalgund\n",
      "Processing Record 217 | khatanga\n",
      "City not found skipping...\n",
      "Processing Record 218 | ulcinj\n",
      "City not found skipping...\n",
      "Processing Record 219 | uarini\n",
      "Processing Record 220 | egvekinot\n",
      "Processing Record 221 | masingbi\n",
      "Processing Record 222 | ponta delgada\n",
      "Processing Record 223 | moron\n",
      "Processing Record 224 | puerto leguizamo\n",
      "Processing Record 225 | altus\n",
      "Processing Record 226 | luanda\n",
      "Processing Record 227 | westport\n",
      "Processing Record 228 | port hedland\n"
     ]
    },
    {
     "name": "stdout",
     "output_type": "stream",
     "text": [
      "Processing Record 229 | caltagirone\n",
      "Processing Record 230 | conde\n",
      "Processing Record 231 | lagoa\n",
      "Processing Record 232 | phuket\n",
      "Processing Record 233 | te anau\n",
      "Processing Record 234 | nome\n",
      "Processing Record 235 | chatakonda\n",
      "City not found skipping...\n",
      "Processing Record 236 | tateyama\n",
      "Processing Record 237 | tiksi\n",
      "Processing Record 238 | leningradskiy\n",
      "Processing Record 239 | kununurra\n",
      "Processing Record 240 | kilis\n",
      "Processing Record 241 | kavieng\n",
      "Processing Record 242 | gallup\n",
      "Processing Record 243 | longyearbyen\n",
      "Processing Record 244 | saldanha\n",
      "Processing Record 245 | canutama\n",
      "Processing Record 246 | portobelo\n",
      "Processing Record 247 | puerto madero\n",
      "Processing Record 248 | sibolga\n",
      "Processing Record 249 | catabola\n",
      "Processing Record 250 | marevo\n",
      "Processing Record 251 | mala vyska\n",
      "City not found skipping...\n",
      "Processing Record 252 | karratha\n",
      "Processing Record 253 | provideniya\n",
      "Processing Record 254 | verkhoyansk\n",
      "Processing Record 255 | pineville\n",
      "Processing Record 256 | akonolinga\n",
      "Processing Record 257 | vestmanna\n",
      "Processing Record 258 | uaua\n",
      "Processing Record 259 | karasjok\n",
      "Processing Record 260 | kirakira\n",
      "Processing Record 261 | cidreira\n",
      "Processing Record 262 | mahibadhoo\n",
      "Processing Record 263 | bobrovka\n",
      "Processing Record 264 | bambous virieux\n",
      "Processing Record 265 | sakakah\n",
      "Processing Record 266 | bethel\n",
      "Processing Record 267 | ribeira grande\n",
      "Processing Record 268 | lomme\n",
      "Processing Record 269 | sao filipe\n",
      "Processing Record 270 | twentynine palms\n",
      "Processing Record 271 | erzin\n",
      "Processing Record 272 | karaidel\n",
      "Processing Record 273 | santa marta\n",
      "Processing Record 274 | buta\n",
      "Processing Record 275 | bongouanou\n",
      "Processing Record 276 | pevek\n",
      "Processing Record 277 | maceio\n",
      "Processing Record 278 | mount isa\n",
      "Processing Record 279 | pakaur\n",
      "Processing Record 280 | olinda\n",
      "Processing Record 281 | kovdor\n",
      "Processing Record 282 | hazleton\n",
      "Processing Record 283 | sambava\n",
      "Processing Record 284 | beloha\n",
      "Processing Record 285 | lensk\n",
      "Processing Record 286 | jensen beach\n",
      "Processing Record 287 | aljezur\n",
      "Processing Record 288 | ban tak\n",
      "Processing Record 289 | nouadhibou\n",
      "Processing Record 290 | grong\n",
      "Processing Record 291 | cabo rojo\n",
      "Processing Record 292 | cerrito\n",
      "Processing Record 293 | faya\n",
      "Processing Record 294 | luderitz\n",
      "City not found skipping...\n",
      "Processing Record 295 | meulaboh\n",
      "City not found skipping...\n",
      "City not found skipping...\n",
      "Processing Record 296 | geraldton\n",
      "Processing Record 297 | saint-pierre\n",
      "Processing Record 298 | kirovskiy\n",
      "Processing Record 299 | goma\n",
      "City not found skipping...\n",
      "Processing Record 300 | kalemie\n",
      "Processing Record 301 | pa sang\n",
      "Processing Record 302 | mantua\n",
      "City not found skipping...\n",
      "Processing Record 303 | sobolevo\n",
      "Processing Record 304 | san-pedro\n",
      "Processing Record 305 | trinidad\n",
      "Processing Record 306 | atbasar\n",
      "Processing Record 307 | viedma\n",
      "Processing Record 308 | atherton\n",
      "Processing Record 309 | sterling\n",
      "Processing Record 310 | trincomalee\n",
      "Processing Record 311 | carutapera\n",
      "Processing Record 312 | limbang\n",
      "Processing Record 313 | takayama\n",
      "Processing Record 314 | buraydah\n",
      "Processing Record 315 | aswan\n",
      "Processing Record 316 | halifax\n",
      "Processing Record 317 | isangel\n",
      "Processing Record 318 | lashio\n",
      "Processing Record 319 | chimore\n",
      "Processing Record 320 | hervey bay\n",
      "Processing Record 321 | mendoza\n",
      "Processing Record 322 | tallahassee\n",
      "Processing Record 323 | acapulco\n",
      "Processing Record 324 | kattivakkam\n",
      "Processing Record 325 | batemans bay\n",
      "Processing Record 326 | tezu\n",
      "Processing Record 327 | kibala\n",
      "Processing Record 328 | kanker\n",
      "Processing Record 329 | zheleznodorozhnyy\n",
      "Processing Record 330 | zwedru\n",
      "Processing Record 331 | san quintin\n",
      "Processing Record 332 | eucaliptus\n",
      "Processing Record 333 | dingle\n",
      "Processing Record 334 | constantine\n",
      "Processing Record 335 | waipawa\n",
      "Processing Record 336 | kinkala\n",
      "Processing Record 337 | palmer\n",
      "Processing Record 338 | salisbury\n",
      "Processing Record 339 | west wendover\n",
      "Processing Record 340 | gigmoto\n",
      "Processing Record 341 | cockburn town\n",
      "Processing Record 342 | avera\n",
      "Processing Record 343 | gat\n",
      "Processing Record 344 | maldonado\n",
      "Processing Record 345 | bodden town\n",
      "Processing Record 346 | pangai\n",
      "Processing Record 347 | fare\n",
      "Processing Record 348 | lewistown\n",
      "Processing Record 349 | long beach\n",
      "Processing Record 350 | dwarka\n",
      "Processing Record 351 | seoul\n",
      "Processing Record 352 | marsaxlokk\n",
      "Processing Record 353 | bereznik\n",
      "Processing Record 354 | saint anthony\n",
      "Processing Record 355 | korop\n",
      "Processing Record 356 | matara\n",
      "Processing Record 357 | nemuro\n",
      "Processing Record 358 | banda aceh\n",
      "City not found skipping...\n",
      "Processing Record 359 | hanzhong\n",
      "Processing Record 360 | aginskoye\n",
      "City not found skipping...\n",
      "City not found skipping...\n",
      "Processing Record 361 | dongsheng\n",
      "Processing Record 362 | sola\n",
      "Processing Record 363 | salalah\n",
      "Processing Record 364 | okha\n",
      "Processing Record 365 | taksimo\n",
      "Processing Record 366 | djibo\n",
      "Processing Record 367 | san vicente\n",
      "Processing Record 368 | ambilobe\n",
      "Processing Record 369 | torbay\n",
      "Processing Record 370 | sorong\n",
      "Processing Record 371 | miraflores\n",
      "Processing Record 372 | chara\n",
      "Processing Record 373 | kahului\n",
      "City not found skipping...\n",
      "Processing Record 374 | bubaque\n",
      "Processing Record 375 | anadyr\n",
      "Processing Record 376 | tucurui\n",
      "Processing Record 377 | kandrian\n",
      "Processing Record 378 | vardo\n",
      "Processing Record 379 | tadine\n",
      "Processing Record 380 | turtas\n",
      "Processing Record 381 | codrington\n",
      "Processing Record 382 | maragogi\n",
      "Processing Record 383 | pontes e lacerda\n",
      "Processing Record 384 | warman\n",
      "Processing Record 385 | san isidro\n",
      "Processing Record 386 | hauterive\n",
      "Processing Record 387 | necochea\n",
      "Processing Record 388 | akdepe\n",
      "Processing Record 389 | macusani\n",
      "Processing Record 390 | dong hoi\n",
      "Processing Record 391 | padang\n",
      "Processing Record 392 | lompoc\n",
      "City not found skipping...\n",
      "Processing Record 393 | iskateley\n",
      "Processing Record 394 | malmesbury\n",
      "Processing Record 395 | tuyom\n",
      "Processing Record 396 | puerto colombia\n",
      "Processing Record 397 | zhezkazgan\n",
      "Processing Record 398 | henties bay\n",
      "Processing Record 399 | ulladulla\n",
      "Processing Record 400 | yaan\n",
      "Processing Record 401 | copiapo\n",
      "Processing Record 402 | bonfim\n",
      "Processing Record 403 | los llanos de aridane\n",
      "Processing Record 404 | pauini\n",
      "Processing Record 405 | pacific grove\n",
      "Processing Record 406 | sitka\n",
      "Processing Record 407 | freeport\n",
      "Processing Record 408 | grindavik\n",
      "Processing Record 409 | lasa\n",
      "Processing Record 410 | kanchipuram\n",
      "Processing Record 411 | snyder\n",
      "Processing Record 412 | kiknur\n",
      "Processing Record 413 | kenora\n",
      "Processing Record 414 | bandarban\n",
      "Processing Record 415 | norman wells\n",
      "Processing Record 416 | bilibino\n",
      "Processing Record 417 | palora\n",
      "Processing Record 418 | chenzhou\n",
      "Processing Record 419 | opuwo\n",
      "Processing Record 420 | sayyan\n",
      "Processing Record 421 | qaqortoq\n",
      "Processing Record 422 | townsville\n",
      "Processing Record 423 | ushtobe\n",
      "Processing Record 424 | cabo san lucas\n",
      "Processing Record 425 | tabou\n",
      "Processing Record 426 | muroto\n",
      "Processing Record 427 | grand-santi\n",
      "Processing Record 428 | portage\n",
      "Processing Record 429 | auki\n",
      "Processing Record 430 | krasnyy chikoy\n",
      "Processing Record 431 | lakes entrance\n",
      "Processing Record 432 | fuerte olimpo\n",
      "Processing Record 433 | lata\n",
      "Processing Record 434 | mogadishu\n",
      "Processing Record 435 | ketchikan\n",
      "Processing Record 436 | vanimo\n",
      "Processing Record 437 | antigonish\n",
      "Processing Record 438 | lang suan\n",
      "Processing Record 439 | barra do garcas\n",
      "Processing Record 440 | rocha\n",
      "Processing Record 441 | cayenne\n",
      "Processing Record 442 | zlobin\n",
      "Processing Record 443 | nchelenge\n",
      "Processing Record 444 | radviliskis\n",
      "Processing Record 445 | umm kaddadah\n",
      "Processing Record 446 | puerto escondido\n",
      "Processing Record 447 | strezhevoy\n",
      "City not found skipping...\n",
      "Processing Record 448 | zacualtipan\n",
      "Processing Record 449 | nishihara\n",
      "Processing Record 450 | point fortin\n",
      "Processing Record 451 | narok\n",
      "Processing Record 452 | canyon lake\n",
      "Processing Record 453 | angoche\n",
      "Processing Record 454 | birjand\n",
      "Processing Record 455 | alice springs\n",
      "Processing Record 456 | makakilo city\n",
      "Processing Record 457 | muromtsevo\n",
      "Processing Record 458 | alice town\n",
      "Processing Record 459 | ambon\n",
      "Processing Record 460 | margate\n",
      "Processing Record 461 | belmonte\n",
      "Processing Record 462 | griffith\n",
      "City not found skipping...\n",
      "Processing Record 463 | lazaro cardenas\n",
      "Processing Record 464 | abu samrah\n"
     ]
    },
    {
     "name": "stdout",
     "output_type": "stream",
     "text": [
      "Processing Record 465 | arlit\n",
      "Processing Record 466 | salobrena\n",
      "Processing Record 467 | russell\n",
      "Processing Record 468 | kerema\n",
      "Processing Record 469 | bridlington\n",
      "Processing Record 470 | parabel\n",
      "Processing Record 471 | bundaberg\n",
      "Processing Record 472 | north kessock\n",
      "Processing Record 473 | vila velha\n",
      "Processing Record 474 | souillac\n",
      "Processing Record 475 | togur\n",
      "Processing Record 476 | miri\n",
      "Processing Record 477 | kloulklubed\n",
      "Processing Record 478 | kudahuvadhoo\n",
      "Processing Record 479 | korla\n",
      "Processing Record 480 | nhulunbuy\n",
      "Processing Record 481 | crib point\n",
      "Processing Record 482 | vestmannaeyjar\n",
      "Processing Record 483 | burgeo\n",
      "Processing Record 484 | hambantota\n",
      "Processing Record 485 | tamiahua\n",
      "Processing Record 486 | ukmerge\n",
      "Processing Record 487 | bhit shah\n",
      "Processing Record 488 | shelburne\n",
      "Processing Record 489 | uyemskiy\n",
      "Processing Record 490 | allapalli\n",
      "Processing Record 491 | haines junction\n",
      "Processing Record 492 | nelson bay\n",
      "Processing Record 493 | bharatpur\n",
      "Processing Record 494 | huangyan\n",
      "Processing Record 495 | letlhakane\n",
      "Processing Record 496 | great falls\n",
      "Processing Record 497 | vrangel\n",
      "Processing Record 498 | aasiaat\n",
      "Processing Record 499 | krasnoselkup\n",
      "Processing Record 500 | santa maria a vico\n",
      "City not found skipping...\n",
      "Processing Record 501 | semporna\n",
      "Processing Record 502 | hamilton\n",
      "Processing Record 503 | poum\n",
      "Processing Record 504 | wiarton\n",
      "Processing Record 505 | jipijapa\n",
      "Processing Record 506 | san carlos de bariloche\n",
      "Processing Record 507 | pemangkat\n",
      "Processing Record 508 | prabumulih\n",
      "Processing Record 509 | northam\n",
      "Processing Record 510 | ostrovnoy\n",
      "Processing Record 511 | two rivers\n",
      "Processing Record 512 | barcelona\n",
      "Processing Record 513 | hami\n",
      "Processing Record 514 | corowa\n",
      "Processing Record 515 | callaway\n",
      "Processing Record 516 | puerto narino\n",
      "Processing Record 517 | rorvik\n",
      "Processing Record 518 | bathsheba\n",
      "Processing Record 519 | haringhata\n",
      "Processing Record 520 | perth\n",
      "Processing Record 521 | sur\n",
      "Processing Record 522 | uzhur\n",
      "Processing Record 523 | komsomolskiy\n",
      "Processing Record 524 | ust-uda\n",
      "Processing Record 525 | piacabucu\n",
      "Processing Record 526 | yumen\n",
      "Processing Record 527 | babati\n",
      "Processing Record 528 | baraboo\n",
      "Processing Record 529 | galesong\n",
      "Processing Record 530 | prince albert\n",
      "City not found skipping...\n",
      "Processing Record 531 | honningsvag\n",
      "Processing Record 532 | boden\n",
      "Processing Record 533 | atyashevo\n",
      "Processing Record 534 | buchanan\n",
      "Processing Record 535 | miquelon\n",
      "Processing Record 536 | ulaanbaatar\n",
      "Processing Record 537 | conway\n",
      "Processing Record 538 | horta\n",
      "Processing Record 539 | mahanoro\n",
      "Processing Record 540 | laje\n",
      "Processing Record 541 | sechura\n",
      "Processing Record 542 | kondinskoye\n",
      "Processing Record 543 | charleston\n",
      "Processing Record 544 | chapais\n",
      "Processing Record 545 | bairiki\n",
      "Processing Record 546 | chlorakas\n",
      "Processing Record 547 | wanning\n",
      "Processing Record 548 | deqing\n",
      "Processing Record 549 | liuhe\n",
      "Processing Record 550 | san andres\n",
      "Processing Record 551 | matamoros\n",
      "Processing Record 552 | srandakan\n",
      "Processing Record 553 | saint andrews\n",
      "Processing Record 554 | kinablangan\n",
      "City not found skipping...\n",
      "Processing Record 555 | tynda\n",
      "Processing Record 556 | bereda\n",
      "Processing Record 557 | bantogon\n",
      "Processing Record 558 | gornyak\n",
      "Processing Record 559 | lorengau\n",
      "Processing Record 560 | byron bay\n",
      "Processing Record 561 | verkhnyaya inta\n",
      "Processing Record 562 | mount gambier\n",
      "Processing Record 563 | mangit\n",
      "Processing Record 564 | passo fundo\n",
      "Processing Record 565 | tuy hoa\n",
      "Processing Record 566 | natal\n",
      "Processing Record 567 | emerald\n",
      "Processing Record 568 | joshimath\n",
      "Processing Record 569 | ornskoldsvik\n",
      "Processing Record 570 | naze\n",
      "Processing Record 571 | tubuala\n",
      "Processing Record 572 | launceston\n",
      "Processing Record 573 | bosaso\n",
      "Processing Record 574 | beira\n",
      "City not found skipping...\n",
      "Processing Record 575 | kabinda\n",
      "City not found skipping...\n",
      "Processing Record 576 | taonan\n",
      "Processing Record 577 | sao jose da coroa grande\n",
      "Processing Record 578 | ust-kuyga\n",
      "Processing Record 579 | almaznyy\n",
      "Processing Record 580 | makueni\n",
      "Processing Record 581 | pringsewu\n",
      "City not found skipping...\n",
      "City not found skipping...\n",
      "Processing Record 582 | coahuayana\n",
      "Processing Record 583 | wairoa\n",
      "Processing Record 584 | vung tau\n",
      "Processing Record 585 | jibuti\n",
      "Processing Record 586 | kismayo\n",
      "Processing Record 587 | yarmouth\n",
      "Processing Record 588 | temascalcingo\n",
      "Processing Record 589 | yar-sale\n",
      "Processing Record 590 | wangqing\n",
      "Processing Record 591 | waingapu\n",
      "Processing Record 592 | oyama\n",
      "Processing Record 593 | wanaka\n",
      "Processing Record 594 | tarutyne\n",
      "Processing Record 595 | englewood\n",
      "Processing Record 596 | itarema\n",
      "Processing Record 597 | rio verde de mato grosso\n",
      "Processing Record 598 | salvador\n",
      "Processing Record 599 | katangli\n",
      "City not found skipping...\n",
      "Processing Record 600 | zhigansk\n"
     ]
    }
   ],
   "source": [
    "base_url = \"http://api.openweathermap.org/data/2.5/weather?q=\"\n",
    "\n",
    "units = \"imperial\"\n",
    "\n",
    "maxtemp = []\n",
    "humidity = []\n",
    "cloudiness = []\n",
    "windspeed = []\n",
    "cities_names = []\n",
    "lat = []\n",
    "lng = []\n",
    "country = []\n",
    "date = []\n",
    "record_count = 1\n",
    "\n",
    "print(\"Beginning Data Retrieval\")\n",
    "print(\"----------------------------\")\n",
    "for x in range(len(cities)): \n",
    "    query_url = f\"{base_url}{cities[x]}&appid={weather_api_key}&units={units}\"\n",
    "    \n",
    "    weather_data = requests.get(query_url).json()\n",
    "    try:\n",
    "        maxtemp.append(weather_data[\"main\"][\"temp_max\"])\n",
    "        humidity.append(weather_data[\"main\"][\"humidity\"])\n",
    "        cloudiness.append(weather_data[\"clouds\"][\"all\"])\n",
    "        windspeed.append(weather_data[\"wind\"][\"speed\"])\n",
    "        lat.append(weather_data[\"coord\"][\"lat\"])\n",
    "        lng.append(weather_data[\"coord\"][\"lon\"])\n",
    "        country.append(weather_data[\"sys\"][\"country\"])\n",
    "        cities_names.append(cities[x])\n",
    "        date.append(weather_data[\"dt\"])\n",
    "        \n",
    "        print(f\"Processing Record {record_count} | {cities[x]}\")\n",
    "        \n",
    "        record_count += 1\n",
    "        \n",
    "        time.sleep(1)\n",
    "        \n",
    "    except:\n",
    "        print(f\"City not found skipping...\")"
   ]
  },
  {
   "cell_type": "markdown",
   "metadata": {},
   "source": [
    "### Convert Raw Data to DataFrame\n",
    "* Export the city data into a .csv.\n",
    "* Display the DataFrame"
   ]
  },
  {
   "cell_type": "code",
   "execution_count": 4,
   "metadata": {},
   "outputs": [
    {
     "data": {
      "text/html": [
       "<div>\n",
       "<style scoped>\n",
       "    .dataframe tbody tr th:only-of-type {\n",
       "        vertical-align: middle;\n",
       "    }\n",
       "\n",
       "    .dataframe tbody tr th {\n",
       "        vertical-align: top;\n",
       "    }\n",
       "\n",
       "    .dataframe thead th {\n",
       "        text-align: right;\n",
       "    }\n",
       "</style>\n",
       "<table border=\"1\" class=\"dataframe\">\n",
       "  <thead>\n",
       "    <tr style=\"text-align: right;\">\n",
       "      <th></th>\n",
       "      <th>City</th>\n",
       "      <th>Lat</th>\n",
       "      <th>Lng</th>\n",
       "      <th>Max Temp</th>\n",
       "      <th>Humidity</th>\n",
       "      <th>Cloudiness</th>\n",
       "      <th>Wind Speed</th>\n",
       "      <th>Country</th>\n",
       "      <th>Date</th>\n",
       "    </tr>\n",
       "  </thead>\n",
       "  <tbody>\n",
       "    <tr>\n",
       "      <th>0</th>\n",
       "      <td>alta floresta</td>\n",
       "      <td>-9.8756</td>\n",
       "      <td>-56.0861</td>\n",
       "      <td>75.65</td>\n",
       "      <td>95</td>\n",
       "      <td>100</td>\n",
       "      <td>3.60</td>\n",
       "      <td>BR</td>\n",
       "      <td>1613166582</td>\n",
       "    </tr>\n",
       "    <tr>\n",
       "      <th>1</th>\n",
       "      <td>kapaa</td>\n",
       "      <td>22.0752</td>\n",
       "      <td>-159.3190</td>\n",
       "      <td>77.00</td>\n",
       "      <td>64</td>\n",
       "      <td>20</td>\n",
       "      <td>10.36</td>\n",
       "      <td>US</td>\n",
       "      <td>1613166583</td>\n",
       "    </tr>\n",
       "    <tr>\n",
       "      <th>2</th>\n",
       "      <td>tomatlan</td>\n",
       "      <td>19.9333</td>\n",
       "      <td>-105.2500</td>\n",
       "      <td>77.68</td>\n",
       "      <td>46</td>\n",
       "      <td>0</td>\n",
       "      <td>13.00</td>\n",
       "      <td>MX</td>\n",
       "      <td>1613166584</td>\n",
       "    </tr>\n",
       "    <tr>\n",
       "      <th>3</th>\n",
       "      <td>albany</td>\n",
       "      <td>42.6001</td>\n",
       "      <td>-73.9662</td>\n",
       "      <td>19.00</td>\n",
       "      <td>36</td>\n",
       "      <td>92</td>\n",
       "      <td>3.40</td>\n",
       "      <td>US</td>\n",
       "      <td>1613166585</td>\n",
       "    </tr>\n",
       "    <tr>\n",
       "      <th>4</th>\n",
       "      <td>rikitea</td>\n",
       "      <td>-23.1203</td>\n",
       "      <td>-134.9692</td>\n",
       "      <td>80.31</td>\n",
       "      <td>70</td>\n",
       "      <td>30</td>\n",
       "      <td>9.22</td>\n",
       "      <td>PF</td>\n",
       "      <td>1613166586</td>\n",
       "    </tr>\n",
       "  </tbody>\n",
       "</table>\n",
       "</div>"
      ],
      "text/plain": [
       "            City      Lat       Lng  Max Temp  Humidity  Cloudiness  \\\n",
       "0  alta floresta  -9.8756  -56.0861     75.65        95         100   \n",
       "1          kapaa  22.0752 -159.3190     77.00        64          20   \n",
       "2       tomatlan  19.9333 -105.2500     77.68        46           0   \n",
       "3         albany  42.6001  -73.9662     19.00        36          92   \n",
       "4        rikitea -23.1203 -134.9692     80.31        70          30   \n",
       "\n",
       "   Wind Speed Country        Date  \n",
       "0        3.60      BR  1613166582  \n",
       "1       10.36      US  1613166583  \n",
       "2       13.00      MX  1613166584  \n",
       "3        3.40      US  1613166585  \n",
       "4        9.22      PF  1613166586  "
      ]
     },
     "execution_count": 4,
     "metadata": {},
     "output_type": "execute_result"
    }
   ],
   "source": [
    "weather_df = pd.DataFrame({\"City\": cities_names,\n",
    "                          \"Lat\": lat,\n",
    "                          \"Lng\": lng,\n",
    "                          \"Max Temp\": maxtemp,\n",
    "                          \"Humidity\": humidity,\n",
    "                          \"Cloudiness\": cloudiness,\n",
    "                          \"Wind Speed\": windspeed,\n",
    "                          \"Country\": country,\n",
    "                          \"Date\": date})\n",
    "weather_df.head()"
   ]
  },
  {
   "cell_type": "code",
   "execution_count": 5,
   "metadata": {},
   "outputs": [
    {
     "data": {
      "text/html": [
       "<div>\n",
       "<style scoped>\n",
       "    .dataframe tbody tr th:only-of-type {\n",
       "        vertical-align: middle;\n",
       "    }\n",
       "\n",
       "    .dataframe tbody tr th {\n",
       "        vertical-align: top;\n",
       "    }\n",
       "\n",
       "    .dataframe thead th {\n",
       "        text-align: right;\n",
       "    }\n",
       "</style>\n",
       "<table border=\"1\" class=\"dataframe\">\n",
       "  <thead>\n",
       "    <tr style=\"text-align: right;\">\n",
       "      <th></th>\n",
       "      <th>Lat</th>\n",
       "      <th>Lng</th>\n",
       "      <th>Max Temp</th>\n",
       "      <th>Humidity</th>\n",
       "      <th>Cloudiness</th>\n",
       "      <th>Wind Speed</th>\n",
       "      <th>Date</th>\n",
       "    </tr>\n",
       "  </thead>\n",
       "  <tbody>\n",
       "    <tr>\n",
       "      <th>count</th>\n",
       "      <td>600.000000</td>\n",
       "      <td>600.000000</td>\n",
       "      <td>600.000000</td>\n",
       "      <td>600.000000</td>\n",
       "      <td>600.000000</td>\n",
       "      <td>600.000000</td>\n",
       "      <td>6.000000e+02</td>\n",
       "    </tr>\n",
       "    <tr>\n",
       "      <th>mean</th>\n",
       "      <td>18.325621</td>\n",
       "      <td>15.646374</td>\n",
       "      <td>50.503917</td>\n",
       "      <td>74.136667</td>\n",
       "      <td>54.006667</td>\n",
       "      <td>8.196550</td>\n",
       "      <td>1.613167e+09</td>\n",
       "    </tr>\n",
       "    <tr>\n",
       "      <th>std</th>\n",
       "      <td>32.994233</td>\n",
       "      <td>90.411034</td>\n",
       "      <td>32.208120</td>\n",
       "      <td>18.870740</td>\n",
       "      <td>38.346195</td>\n",
       "      <td>6.239374</td>\n",
       "      <td>3.421904e+02</td>\n",
       "    </tr>\n",
       "    <tr>\n",
       "      <th>min</th>\n",
       "      <td>-54.800000</td>\n",
       "      <td>-179.166700</td>\n",
       "      <td>-36.650000</td>\n",
       "      <td>14.000000</td>\n",
       "      <td>0.000000</td>\n",
       "      <td>0.220000</td>\n",
       "      <td>1.613166e+09</td>\n",
       "    </tr>\n",
       "    <tr>\n",
       "      <th>25%</th>\n",
       "      <td>-9.095425</td>\n",
       "      <td>-65.114550</td>\n",
       "      <td>28.400000</td>\n",
       "      <td>64.000000</td>\n",
       "      <td>20.000000</td>\n",
       "      <td>3.572500</td>\n",
       "      <td>1.613167e+09</td>\n",
       "    </tr>\n",
       "    <tr>\n",
       "      <th>50%</th>\n",
       "      <td>19.925000</td>\n",
       "      <td>19.637400</td>\n",
       "      <td>63.000000</td>\n",
       "      <td>78.000000</td>\n",
       "      <td>66.500000</td>\n",
       "      <td>6.910000</td>\n",
       "      <td>1.613167e+09</td>\n",
       "    </tr>\n",
       "    <tr>\n",
       "      <th>75%</th>\n",
       "      <td>45.302625</td>\n",
       "      <td>96.425025</td>\n",
       "      <td>77.000000</td>\n",
       "      <td>88.000000</td>\n",
       "      <td>90.000000</td>\n",
       "      <td>11.070000</td>\n",
       "      <td>1.613167e+09</td>\n",
       "    </tr>\n",
       "    <tr>\n",
       "      <th>max</th>\n",
       "      <td>78.218600</td>\n",
       "      <td>179.316700</td>\n",
       "      <td>93.200000</td>\n",
       "      <td>100.000000</td>\n",
       "      <td>100.000000</td>\n",
       "      <td>49.170000</td>\n",
       "      <td>1.613168e+09</td>\n",
       "    </tr>\n",
       "  </tbody>\n",
       "</table>\n",
       "</div>"
      ],
      "text/plain": [
       "              Lat         Lng    Max Temp    Humidity  Cloudiness  Wind Speed  \\\n",
       "count  600.000000  600.000000  600.000000  600.000000  600.000000  600.000000   \n",
       "mean    18.325621   15.646374   50.503917   74.136667   54.006667    8.196550   \n",
       "std     32.994233   90.411034   32.208120   18.870740   38.346195    6.239374   \n",
       "min    -54.800000 -179.166700  -36.650000   14.000000    0.000000    0.220000   \n",
       "25%     -9.095425  -65.114550   28.400000   64.000000   20.000000    3.572500   \n",
       "50%     19.925000   19.637400   63.000000   78.000000   66.500000    6.910000   \n",
       "75%     45.302625   96.425025   77.000000   88.000000   90.000000   11.070000   \n",
       "max     78.218600  179.316700   93.200000  100.000000  100.000000   49.170000   \n",
       "\n",
       "               Date  \n",
       "count  6.000000e+02  \n",
       "mean   1.613167e+09  \n",
       "std    3.421904e+02  \n",
       "min    1.613166e+09  \n",
       "25%    1.613167e+09  \n",
       "50%    1.613167e+09  \n",
       "75%    1.613167e+09  \n",
       "max    1.613168e+09  "
      ]
     },
     "execution_count": 5,
     "metadata": {},
     "output_type": "execute_result"
    }
   ],
   "source": [
    "outfile = \"../output_data/cities.csv\"\n",
    "weather_df.to_csv(outfile, index=False)\n",
    "weather_df.describe()"
   ]
  },
  {
   "cell_type": "markdown",
   "metadata": {},
   "source": [
    "## Inspect the data and remove the cities where the humidity > 100%.\n",
    "----\n",
    "Skip this step if there are no cities that have humidity > 100%. "
   ]
  },
  {
   "cell_type": "code",
   "execution_count": 6,
   "metadata": {},
   "outputs": [
    {
     "data": {
      "text/html": [
       "<div>\n",
       "<style scoped>\n",
       "    .dataframe tbody tr th:only-of-type {\n",
       "        vertical-align: middle;\n",
       "    }\n",
       "\n",
       "    .dataframe tbody tr th {\n",
       "        vertical-align: top;\n",
       "    }\n",
       "\n",
       "    .dataframe thead th {\n",
       "        text-align: right;\n",
       "    }\n",
       "</style>\n",
       "<table border=\"1\" class=\"dataframe\">\n",
       "  <thead>\n",
       "    <tr style=\"text-align: right;\">\n",
       "      <th></th>\n",
       "      <th>City</th>\n",
       "      <th>Lat</th>\n",
       "      <th>Lng</th>\n",
       "      <th>Max Temp</th>\n",
       "      <th>Humidity</th>\n",
       "      <th>Cloudiness</th>\n",
       "      <th>Wind Speed</th>\n",
       "      <th>Country</th>\n",
       "      <th>Date</th>\n",
       "    </tr>\n",
       "  </thead>\n",
       "  <tbody>\n",
       "    <tr>\n",
       "      <th>0</th>\n",
       "      <td>alta floresta</td>\n",
       "      <td>-9.8756</td>\n",
       "      <td>-56.0861</td>\n",
       "      <td>75.65</td>\n",
       "      <td>95</td>\n",
       "      <td>100</td>\n",
       "      <td>3.60</td>\n",
       "      <td>BR</td>\n",
       "      <td>1613166582</td>\n",
       "    </tr>\n",
       "    <tr>\n",
       "      <th>1</th>\n",
       "      <td>kapaa</td>\n",
       "      <td>22.0752</td>\n",
       "      <td>-159.3190</td>\n",
       "      <td>77.00</td>\n",
       "      <td>64</td>\n",
       "      <td>20</td>\n",
       "      <td>10.36</td>\n",
       "      <td>US</td>\n",
       "      <td>1613166583</td>\n",
       "    </tr>\n",
       "    <tr>\n",
       "      <th>2</th>\n",
       "      <td>tomatlan</td>\n",
       "      <td>19.9333</td>\n",
       "      <td>-105.2500</td>\n",
       "      <td>77.68</td>\n",
       "      <td>46</td>\n",
       "      <td>0</td>\n",
       "      <td>13.00</td>\n",
       "      <td>MX</td>\n",
       "      <td>1613166584</td>\n",
       "    </tr>\n",
       "    <tr>\n",
       "      <th>3</th>\n",
       "      <td>albany</td>\n",
       "      <td>42.6001</td>\n",
       "      <td>-73.9662</td>\n",
       "      <td>19.00</td>\n",
       "      <td>36</td>\n",
       "      <td>92</td>\n",
       "      <td>3.40</td>\n",
       "      <td>US</td>\n",
       "      <td>1613166585</td>\n",
       "    </tr>\n",
       "    <tr>\n",
       "      <th>4</th>\n",
       "      <td>rikitea</td>\n",
       "      <td>-23.1203</td>\n",
       "      <td>-134.9692</td>\n",
       "      <td>80.31</td>\n",
       "      <td>70</td>\n",
       "      <td>30</td>\n",
       "      <td>9.22</td>\n",
       "      <td>PF</td>\n",
       "      <td>1613166586</td>\n",
       "    </tr>\n",
       "  </tbody>\n",
       "</table>\n",
       "</div>"
      ],
      "text/plain": [
       "            City      Lat       Lng  Max Temp  Humidity  Cloudiness  \\\n",
       "0  alta floresta  -9.8756  -56.0861     75.65        95         100   \n",
       "1          kapaa  22.0752 -159.3190     77.00        64          20   \n",
       "2       tomatlan  19.9333 -105.2500     77.68        46           0   \n",
       "3         albany  42.6001  -73.9662     19.00        36          92   \n",
       "4        rikitea -23.1203 -134.9692     80.31        70          30   \n",
       "\n",
       "   Wind Speed Country        Date  \n",
       "0        3.60      BR  1613166582  \n",
       "1       10.36      US  1613166583  \n",
       "2       13.00      MX  1613166584  \n",
       "3        3.40      US  1613166585  \n",
       "4        9.22      PF  1613166586  "
      ]
     },
     "execution_count": 6,
     "metadata": {},
     "output_type": "execute_result"
    }
   ],
   "source": [
    "data_file = \"../output_data/cities.csv\"\n",
    "city_data = pd.read_csv(data_file)\n",
    "city_data.head()"
   ]
  },
  {
   "cell_type": "code",
   "execution_count": 7,
   "metadata": {},
   "outputs": [
    {
     "data": {
      "text/plain": [
       "Int64Index([], dtype='int64')"
      ]
     },
     "execution_count": 7,
     "metadata": {},
     "output_type": "execute_result"
    }
   ],
   "source": [
    "#  Get the indices of cities that have humidity over 100%.\n",
    "index100 = city_data.loc[city_data[\"Humidity\"] > 100, :].index\n",
    "index100"
   ]
  },
  {
   "cell_type": "code",
   "execution_count": 8,
   "metadata": {},
   "outputs": [
    {
     "data": {
      "text/html": [
       "<div>\n",
       "<style scoped>\n",
       "    .dataframe tbody tr th:only-of-type {\n",
       "        vertical-align: middle;\n",
       "    }\n",
       "\n",
       "    .dataframe tbody tr th {\n",
       "        vertical-align: top;\n",
       "    }\n",
       "\n",
       "    .dataframe thead th {\n",
       "        text-align: right;\n",
       "    }\n",
       "</style>\n",
       "<table border=\"1\" class=\"dataframe\">\n",
       "  <thead>\n",
       "    <tr style=\"text-align: right;\">\n",
       "      <th></th>\n",
       "      <th>City</th>\n",
       "      <th>Lat</th>\n",
       "      <th>Lng</th>\n",
       "      <th>Max Temp</th>\n",
       "      <th>Humidity</th>\n",
       "      <th>Cloudiness</th>\n",
       "      <th>Wind Speed</th>\n",
       "      <th>Country</th>\n",
       "      <th>Date</th>\n",
       "    </tr>\n",
       "  </thead>\n",
       "  <tbody>\n",
       "    <tr>\n",
       "      <th>0</th>\n",
       "      <td>alta floresta</td>\n",
       "      <td>-9.8756</td>\n",
       "      <td>-56.0861</td>\n",
       "      <td>75.65</td>\n",
       "      <td>95</td>\n",
       "      <td>100</td>\n",
       "      <td>3.60</td>\n",
       "      <td>BR</td>\n",
       "      <td>1613166582</td>\n",
       "    </tr>\n",
       "    <tr>\n",
       "      <th>1</th>\n",
       "      <td>kapaa</td>\n",
       "      <td>22.0752</td>\n",
       "      <td>-159.3190</td>\n",
       "      <td>77.00</td>\n",
       "      <td>64</td>\n",
       "      <td>20</td>\n",
       "      <td>10.36</td>\n",
       "      <td>US</td>\n",
       "      <td>1613166583</td>\n",
       "    </tr>\n",
       "    <tr>\n",
       "      <th>2</th>\n",
       "      <td>tomatlan</td>\n",
       "      <td>19.9333</td>\n",
       "      <td>-105.2500</td>\n",
       "      <td>77.68</td>\n",
       "      <td>46</td>\n",
       "      <td>0</td>\n",
       "      <td>13.00</td>\n",
       "      <td>MX</td>\n",
       "      <td>1613166584</td>\n",
       "    </tr>\n",
       "    <tr>\n",
       "      <th>3</th>\n",
       "      <td>albany</td>\n",
       "      <td>42.6001</td>\n",
       "      <td>-73.9662</td>\n",
       "      <td>19.00</td>\n",
       "      <td>36</td>\n",
       "      <td>92</td>\n",
       "      <td>3.40</td>\n",
       "      <td>US</td>\n",
       "      <td>1613166585</td>\n",
       "    </tr>\n",
       "    <tr>\n",
       "      <th>4</th>\n",
       "      <td>rikitea</td>\n",
       "      <td>-23.1203</td>\n",
       "      <td>-134.9692</td>\n",
       "      <td>80.31</td>\n",
       "      <td>70</td>\n",
       "      <td>30</td>\n",
       "      <td>9.22</td>\n",
       "      <td>PF</td>\n",
       "      <td>1613166586</td>\n",
       "    </tr>\n",
       "  </tbody>\n",
       "</table>\n",
       "</div>"
      ],
      "text/plain": [
       "            City      Lat       Lng  Max Temp  Humidity  Cloudiness  \\\n",
       "0  alta floresta  -9.8756  -56.0861     75.65        95         100   \n",
       "1          kapaa  22.0752 -159.3190     77.00        64          20   \n",
       "2       tomatlan  19.9333 -105.2500     77.68        46           0   \n",
       "3         albany  42.6001  -73.9662     19.00        36          92   \n",
       "4        rikitea -23.1203 -134.9692     80.31        70          30   \n",
       "\n",
       "   Wind Speed Country        Date  \n",
       "0        3.60      BR  1613166582  \n",
       "1       10.36      US  1613166583  \n",
       "2       13.00      MX  1613166584  \n",
       "3        3.40      US  1613166585  \n",
       "4        9.22      PF  1613166586  "
      ]
     },
     "execution_count": 8,
     "metadata": {},
     "output_type": "execute_result"
    }
   ],
   "source": [
    "# Make a new DataFrame equal to the city data to drop all humidity outliers by index.\n",
    "# Passing \"inplace=False\" will make a copy of the city_data DataFrame, which we call \"clean_city_data\".\n",
    "clean_city_data = city_data.drop(index=index100)\n",
    "clean_city_data.head()"
   ]
  },
  {
   "cell_type": "markdown",
   "metadata": {},
   "source": [
    "## Plotting the Data\n",
    "* Use proper labeling of the plots using plot titles (including date of analysis) and axes labels.\n",
    "* Save the plotted figures as .pngs."
   ]
  },
  {
   "cell_type": "markdown",
   "metadata": {},
   "source": [
    "## Latitude vs. Temperature Plot"
   ]
  },
  {
   "cell_type": "code",
   "execution_count": 9,
   "metadata": {},
   "outputs": [],
   "source": [
    "# function to create plots\n",
    "def createPlots(x_param, y_param, title, xlabel, ylabel):\n",
    "    clean_city_data.plot(x_param, y_param, kind=\"scatter\")\n",
    "    plt.title(title)\n",
    "    plt.xlabel(xlabel)\n",
    "    plt.ylabel(ylabel)\n",
    "    plt.grid()\n",
    "    plt.show()"
   ]
  },
  {
   "cell_type": "code",
   "execution_count": 10,
   "metadata": {
    "scrolled": true
   },
   "outputs": [
    {
     "data": {
      "image/png": "[encoded data removed]",
      "text/plain": [
       "<Figure size 432x288 with 1 Axes>"
      ]
     },
     "metadata": {
      "needs_background": "light"
     },
     "output_type": "display_data"
    }
   ],
   "source": [
    "x = \"Lat\"\n",
    "y = \"Max Temp\"\n",
    "title = \"City Latitude vs. Max Temperture\"\n",
    "xlabel = \"Latitude\"\n",
    "ylabel = \"Max Temerature (F)\"\n",
    "createPlots(x, y, title, xlabel, ylabel)"
   ]
  },
  {
   "cell_type": "markdown",
   "metadata": {},
   "source": [
    "## Latitude vs. Humidity Plot"
   ]
  },
  {
   "cell_type": "code",
   "execution_count": 11,
   "metadata": {},
   "outputs": [
    {
     "data": {
      "image/png": "[encoded data removed]",
      "text/plain": [
       "<Figure size 432x288 with 1 Axes>"
      ]
     },
     "metadata": {
      "needs_background": "light"
     },
     "output_type": "display_data"
    }
   ],
   "source": [
    "x = \"Lat\"\n",
    "y = \"Humidity\"\n",
    "title = \"City Latitude vs. Humidity\"\n",
    "xlabel = \"Latitude\"\n",
    "ylabel = \"Humidity (%)\"\n",
    "createPlots(x, y, title, xlabel, ylabel)"
   ]
  },
  {
   "cell_type": "markdown",
   "metadata": {},
   "source": [
    "## Latitude vs. Cloudiness Plot"
   ]
  },
  {
   "cell_type": "code",
   "execution_count": 12,
   "metadata": {},
   "outputs": [
    {
     "data": {
      "image/png": "[encoded data removed]",
      "text/plain": [
       "<Figure size 432x288 with 1 Axes>"
      ]
     },
     "metadata": {
      "needs_background": "light"
     },
     "output_type": "display_data"
    }
   ],
   "source": [
    "x = \"Lat\"\n",
    "y = \"Cloudiness\"\n",
    "title = \"City Latitude vs. Cloudiness\"\n",
    "xlabel = \"Latitude\"\n",
    "ylabel = \"Cloudiness (%)\"\n",
    "createPlots(x, y, title, xlabel, ylabel)"
   ]
  },
  {
   "cell_type": "markdown",
   "metadata": {},
   "source": [
    "## Latitude vs. Wind Speed Plot"
   ]
  },
  {
   "cell_type": "code",
   "execution_count": 13,
   "metadata": {},
   "outputs": [
    {
     "data": {
      "image/png": "[encoded data removed]",
      "text/plain": [
       "<Figure size 432x288 with 1 Axes>"
      ]
     },
     "metadata": {
      "needs_background": "light"
     },
     "output_type": "display_data"
    }
   ],
   "source": [
    "x = \"Lat\"\n",
    "y = \"Wind Speed\"\n",
    "title = \"City Latitude vs. Wind Speed\"\n",
    "xlabel = \"Latitude\"\n",
    "ylabel = \"Wind Speed (mph)\"\n",
    "createPlots(x, y, title, xlabel, ylabel)"
   ]
  },
  {
   "cell_type": "markdown",
   "metadata": {},
   "source": [
    "## Linear Regression"
   ]
  },
  {
   "cell_type": "code",
   "execution_count": 26,
   "metadata": {},
   "outputs": [],
   "source": [
    "northern_data = clean_city_data.loc[clean_city_data[\"Lat\"] >= 0, :]\n",
    "southern_data = clean_city_data.loc[clean_city_data[\"Lat\"] <= 0, :]\n",
    "\n",
    "def linearRegression(x_values, y_values, eq_coord, xlabel, ylabel):\n",
    "    # order of values returned is very imoportant, name them properly\n",
    "    (slope, intercept, rvalue, pvalue, stderr) = linregress(x_values, y_values) # x values in first\n",
    "    regress_values = x_values * slope + intercept \n",
    "    line_eq = \"y = \" + str(round(slope,2)) + \"x + \" + str(round(intercept,2))\n",
    "    r_squared = rvalue**2\n",
    "    print(f\"The r squared value is {r_squared}\")\n",
    "    plt.scatter(x_values,y_values)\n",
    "    plt.plot(x_values,regress_values,\"r-\")\n",
    "    # annotate plots at (x, y) at lower left corner of string\n",
    "    plt.annotate(line_eq,(eq_coord),fontsize=12,color=\"red\")\n",
    "    plt.xlabel(xlabel)\n",
    "    plt.ylabel(ylabel)\n",
    "    plt.show()"
   ]
  },
  {
   "cell_type": "markdown",
   "metadata": {},
   "source": [
    "####  Northern Hemisphere - Max Temp vs. Latitude Linear Regression"
   ]
  },
  {
   "cell_type": "code",
   "execution_count": 28,
   "metadata": {},
   "outputs": [
    {
     "name": "stdout",
     "output_type": "stream",
     "text": [
      "The r squared value is 0.7832190326493275\n"
     ]
    },
    {
     "data": {
      "image/png": "[encoded data removed]",
      "text/plain": [
       "<Figure size 432x288 with 1 Axes>"
      ]
     },
     "metadata": {
      "needs_background": "light"
     },
     "output_type": "display_data"
    }
   ],
   "source": [
    "x = northern_data[\"Lat\"]\n",
    "y = northern_data[\"Max Temp\"]\n",
    "eq_coord = (10, 0)\n",
    "xlabel = \"Latitude\"\n",
    "ylabel = \"Max Temp\"\n",
    "linearRegression(x, y, eq_coord, xlabel, ylabel)"
   ]
  },
  {
   "cell_type": "markdown",
   "metadata": {},
   "source": [
    "####  Southern Hemisphere - Max Temp vs. Latitude Linear Regression"
   ]
  },
  {
   "cell_type": "code",
   "execution_count": 29,
   "metadata": {},
   "outputs": [
    {
     "name": "stdout",
     "output_type": "stream",
     "text": [
      "The r squared value is 0.2668967532621585\n"
     ]
    },
    {
     "data": {
      "image/png": "[encoded data removed]",
      "text/plain": [
       "<Figure size 432x288 with 1 Axes>"
      ]
     },
     "metadata": {
      "needs_background": "light"
     },
     "output_type": "display_data"
    }
   ],
   "source": [
    "x = southern_data[\"Lat\"]\n",
    "y = southern_data[\"Max Temp\"]\n",
    "eq_coord = (-50, 50)\n",
    "xlabel = \"Latitude\"\n",
    "ylabel = \"Max Temp\"\n",
    "linearRegression(x, y, eq_coord, xlabel, ylabel)"
   ]
  },
  {
   "cell_type": "markdown",
   "metadata": {},
   "source": [
    "####  Northern Hemisphere - Humidity (%) vs. Latitude Linear Regression"
   ]
  },
  {
   "cell_type": "code",
   "execution_count": 31,
   "metadata": {},
   "outputs": [
    {
     "name": "stdout",
     "output_type": "stream",
     "text": [
      "The r squared value is 0.04928631675609767\n"
     ]
    },
    {
     "data": {
      "image/png": "[encoded data removed]",
      "text/plain": [
       "<Figure size 432x288 with 1 Axes>"
      ]
     },
     "metadata": {
      "needs_background": "light"
     },
     "output_type": "display_data"
    }
   ],
   "source": [
    "x = northern_data[\"Lat\"]\n",
    "y = northern_data[\"Humidity\"]\n",
    "eq_coord = (40, 20)\n",
    "xlabel = \"Latitude\"\n",
    "ylabel = \"Humidity\"\n",
    "linearRegression(x, y, eq_coord, xlabel, ylabel)"
   ]
  },
  {
   "cell_type": "markdown",
   "metadata": {},
   "source": [
    "####  Southern Hemisphere - Humidity (%) vs. Latitude Linear Regression"
   ]
  },
  {
   "cell_type": "code",
   "execution_count": 32,
   "metadata": {},
   "outputs": [
    {
     "name": "stdout",
     "output_type": "stream",
     "text": [
      "The r squared value is 0.06210409126516874\n"
     ]
    },
    {
     "data": {
      "image/png": "[encoded data removed]",
      "text/plain": [
       "<Figure size 432x288 with 1 Axes>"
      ]
     },
     "metadata": {
      "needs_background": "light"
     },
     "output_type": "display_data"
    }
   ],
   "source": [
    "x = southern_data[\"Lat\"]\n",
    "y = southern_data[\"Humidity\"]\n",
    "eq_coord = (-50, 30)\n",
    "xlabel = \"Latitude\"\n",
    "ylabel = \"Humidity\"\n",
    "linearRegression(x, y, eq_coord, xlabel, ylabel)"
   ]
  },
  {
   "cell_type": "markdown",
   "metadata": {},
   "source": [
    "####  Northern Hemisphere - Cloudiness (%) vs. Latitude Linear Regression"
   ]
  },
  {
   "cell_type": "code",
   "execution_count": 33,
   "metadata": {},
   "outputs": [
    {
     "name": "stdout",
     "output_type": "stream",
     "text": [
      "The r squared value is 0.03672842759570186\n"
     ]
    },
    {
     "data": {
      "image/png": "[encoded data removed]",
      "text/plain": [
       "<Figure size 432x288 with 1 Axes>"
      ]
     },
     "metadata": {
      "needs_background": "light"
     },
     "output_type": "display_data"
    }
   ],
   "source": [
    "x = northern_data[\"Lat\"]\n",
    "y = northern_data[\"Cloudiness\"]\n",
    "eq_coord = (20, 60)\n",
    "xlabel = \"Latitude\"\n",
    "ylabel = \"Cloudiness\"\n",
    "linearRegression(x, y, eq_coord, xlabel, ylabel)"
   ]
  },
  {
   "cell_type": "markdown",
   "metadata": {},
   "source": [
    "####  Southern Hemisphere - Cloudiness (%) vs. Latitude Linear Regression"
   ]
  },
  {
   "cell_type": "code",
   "execution_count": 34,
   "metadata": {},
   "outputs": [
    {
     "name": "stdout",
     "output_type": "stream",
     "text": [
      "The r squared value is 0.039120913874112595\n"
     ]
    },
    {
     "data": {
      "image/png": "[encoded data removed]",
      "text/plain": [
       "<Figure size 432x288 with 1 Axes>"
      ]
     },
     "metadata": {
      "needs_background": "light"
     },
     "output_type": "display_data"
    }
   ],
   "source": [
    "x = southern_data[\"Lat\"]\n",
    "y = southern_data[\"Cloudiness\"]\n",
    "eq_coord = (-50, 20)\n",
    "xlabel = \"Latitude\"\n",
    "ylabel = \"Cloudiness\"\n",
    "linearRegression(x, y, eq_coord, xlabel, ylabel)"
   ]
  },
  {
   "cell_type": "markdown",
   "metadata": {},
   "source": [
    "####  Northern Hemisphere - Wind Speed (mph) vs. Latitude Linear Regression"
   ]
  },
  {
   "cell_type": "code",
   "execution_count": 35,
   "metadata": {},
   "outputs": [
    {
     "name": "stdout",
     "output_type": "stream",
     "text": [
      "The r squared value is 0.024648981200468757\n"
     ]
    },
    {
     "data": {
      "image/png": "[encoded data removed]",
      "text/plain": [
       "<Figure size 432x288 with 1 Axes>"
      ]
     },
     "metadata": {
      "needs_background": "light"
     },
     "output_type": "display_data"
    }
   ],
   "source": [
    "x = northern_data[\"Lat\"]\n",
    "y = northern_data[\"Wind Speed\"]\n",
    "eq_coord = (10, 30)\n",
    "xlabel = \"Latitude\"\n",
    "ylabel = \"Wind Speed\"\n",
    "linearRegression(x, y, eq_coord, xlabel, ylabel)"
   ]
  },
  {
   "cell_type": "markdown",
   "metadata": {},
   "source": [
    "####  Southern Hemisphere - Wind Speed (mph) vs. Latitude Linear Regression"
   ]
  },
  {
   "cell_type": "code",
   "execution_count": 36,
   "metadata": {},
   "outputs": [
    {
     "name": "stdout",
     "output_type": "stream",
     "text": [
      "The r squared value is 0.025081135536949246\n"
     ]
    },
    {
     "data": {
      "image/png": "[encoded data removed]",
      "text/plain": [
       "<Figure size 432x288 with 1 Axes>"
      ]
     },
     "metadata": {
      "needs_background": "light"
     },
     "output_type": "display_data"
    }
   ],
   "source": [
    "x = southern_data[\"Lat\"]\n",
    "y = southern_data[\"Wind Speed\"]\n",
    "eq_coord = (-50, 18)\n",
    "xlabel = \"Latitude\"\n",
    "ylabel = \"Wind Speed\"\n",
    "linearRegression(x, y, eq_coord, xlabel, ylabel)"
   ]
  },
  {
   "cell_type": "code",
   "execution_count": null,
   "metadata": {},
   "outputs": [],
   "source": []
  }
 ],
 "metadata": {
  "anaconda-cloud": {},
  "kernel_info": {
   "name": "python3"
  },
  "kernelspec": {
   "display_name": "Python 3",
   "language": "python",
   "name": "python3"
  },
  "language_info": {
   "codemirror_mode": {
    "name": "ipython",
    "version": 3
   },
   "file_extension": ".py",
   "mimetype": "text/x-python",
   "name": "python",
   "nbconvert_exporter": "python",
   "pygments_lexer": "ipython3",
   "version": "3.6.10"
  },
  "latex_envs": {
   "LaTeX_envs_menu_present": true,
   "autoclose": false,
   "autocomplete": true,
   "bibliofile": "biblio.bib",
   "cite_by": "apalike",
   "current_citInitial": 1,
   "eqLabelWithNumbers": true,
   "eqNumInitial": 1,
   "hotkeys": {
    "equation": "Ctrl-E",
    "itemize": "Ctrl-I"
   },
   "labels_anchors": false,
   "latex_user_defs": false,
   "report_style_numbering": false,
   "user_envs_cfg": false
  },
  "nteract": {
   "version": "0.12.3"
  }
 },
 "nbformat": 4,
 "nbformat_minor": 2
}
